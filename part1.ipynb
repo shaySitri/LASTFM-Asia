{
  "nbformat": 4,
  "nbformat_minor": 0,
  "metadata": {
    "colab": {
      "provenance": []
    },
    "kernelspec": {
      "name": "python3",
      "display_name": "Python 3"
    },
    "language_info": {
      "name": "python"
    }
  },
  "cells": [
    {
      "cell_type": "markdown",
      "source": [
        "# Network Analysis and Machine Learning - HW1\n",
        "\n",
        "In this work, we aim to analyze LastFM - social network contains data about users and their connections with other users in Asia.\n",
        "Our purpose is to find intersting insights about the network."
      ],
      "metadata": {
        "id": "QiGx8GE7Tqqq"
      }
    },
    {
      "cell_type": "markdown",
      "source": [
        "## Imports"
      ],
      "metadata": {
        "id": "JWyh8Rc-Tt1M"
      }
    },
    {
      "cell_type": "code",
      "execution_count": 26,
      "metadata": {
        "id": "1QaF_UyaTjjm"
      },
      "outputs": [],
      "source": [
        "import pandas as pd\n",
        "import seaborn as sns\n",
        "import matplotlib.pyplot as plt\n",
        "import networkx as nx\n",
        "import numpy as np\n",
        "from networkx.algorithms import approximation\n",
        "import json\n",
        "import random\n",
        "from functools import reduce\n"
      ]
    },
    {
      "cell_type": "markdown",
      "source": [
        "## Helpers"
      ],
      "metadata": {
        "id": "Kxoqd7YWTvcW"
      }
    },
    {
      "cell_type": "code",
      "source": [
        "def plot_degree_histogram(G):\n",
        "  degree_sequence = sorted((d for n, d in G.degree()), reverse=True)\n",
        "  dmax = max(degree_sequence)\n",
        "\n",
        "  # Create a figure and the two subplots side by side\n",
        "  fig, (ax1, ax2) = plt.subplots(1, 2, figsize=(12, 6))\n",
        "\n",
        "  # Plot degree rank plot\n",
        "  ax1.plot(degree_sequence, \"b-\", marker=\"o\")\n",
        "  ax1.set_title(\"Degree Rank Plot\")\n",
        "  ax1.set_ylabel(\"Degree\")\n",
        "  ax1.set_xlabel(\"Rank\")\n",
        "\n",
        "  # Plot degree histogram\n",
        "  ax2.hist(degree_sequence, bins='auto', color='b', alpha=0.7, rwidth=0.85)\n",
        "  ax2.set_title(\"Degree Histogram\")\n",
        "  ax2.set_xlabel(\"Degree\")\n",
        "  ax2.set_ylabel(\"# of Nodes\")\n",
        "\n",
        "  fig.tight_layout()\n",
        "  plt.show()\n",
        "\n"
      ],
      "metadata": {
        "id": "fqhBRoeKRw9J"
      },
      "execution_count": 1,
      "outputs": []
    },
    {
      "cell_type": "code",
      "source": [
        "def plot_node_targets(nodes):\n",
        "  count_targets = nodes.groupby('target').count()\n",
        "  plt.figure(figsize=(10, 6))\n",
        "  sns.barplot(x='target', y='id', data=count_targets)\n",
        "  plt.xlabel('Target')\n",
        "  plt.ylabel('Count')\n",
        "  plt.title('Count of Nodes in each Target')\n",
        "  plt.show()"
      ],
      "metadata": {
        "id": "MjdR3GR-TxnM"
      },
      "execution_count": 22,
      "outputs": []
    },
    {
      "cell_type": "code",
      "source": [
        "def print_top_10_centerality(top_degree_nodes):\n",
        "  top_degree_nodes = dict(sorted(top_degree_nodes.items(), key=lambda item: item[1], reverse=True))\n",
        "  i = 1\n",
        "  for node, centrality in list(top_degree_nodes.items())[:10]:\n",
        "    print(f\"{i}. Node {node}: {centrality:.4f}\")\n",
        "    i += 1\n",
        "  return list(top_degree_nodes.keys())[:10]"
      ],
      "metadata": {
        "id": "ri3yrxY4Ty91"
      },
      "execution_count": 23,
      "outputs": []
    },
    {
      "cell_type": "code",
      "source": [
        "def top_ten_predictions(top_ten, nodes, features):\n",
        "  for pair in top_ten:\n",
        "    x = pair[0][0]\n",
        "    y = pair[0][1]\n",
        "    print(f\"({x}, {y}), {pair[1]}\")\n",
        "    print(nodes.loc[(nodes['id'] == x) | (nodes['id'] == y) ])\n",
        "\n",
        "  lst1 = features[x]\n",
        "  lst2 = features[y]\n",
        "  intersection = reduce(lambda acc, x: acc + [x] if x in lst2 and x not in acc else acc, lst1, [])\n",
        "\n",
        "  print(len(intersection))\n",
        "\n",
        "  lst1 = G[x]\n",
        "  lst2 = G[y]\n",
        "  intersection = reduce(lambda acc, x: acc + [x] if x in lst2 and x not in acc else acc, lst1, [])\n",
        "  print(len(intersection))"
      ],
      "metadata": {
        "id": "7vv2Y-CwTgoe"
      },
      "execution_count": 27,
      "outputs": []
    },
    {
      "cell_type": "markdown",
      "source": [
        "## 1 - Preprocess"
      ],
      "metadata": {
        "id": "9tu2e8VcT2HB"
      }
    },
    {
      "cell_type": "code",
      "source": [
        "edges = pd.read_csv(\"/content/lastfm_asia_edges.csv\")"
      ],
      "metadata": {
        "id": "HYlTNXKBT03n"
      },
      "execution_count": 5,
      "outputs": []
    },
    {
      "cell_type": "code",
      "source": [
        "nodes = pd.read_csv(\"/content/lastfm_asia_target.csv\")"
      ],
      "metadata": {
        "id": "HZfIP7zRT9Gk"
      },
      "execution_count": 6,
      "outputs": []
    },
    {
      "cell_type": "code",
      "source": [
        "nodes"
      ],
      "metadata": {
        "colab": {
          "base_uri": "https://localhost:8080/",
          "height": 424
        },
        "id": "N_CvW_7OPnAI",
        "outputId": "9132ab32-24cb-4d25-d931-79592a43fdf3"
      },
      "execution_count": 7,
      "outputs": [
        {
          "output_type": "execute_result",
          "data": {
            "text/plain": [
              "        id  target\n",
              "0        0       8\n",
              "1        1      17\n",
              "2        2       3\n",
              "3        3      17\n",
              "4        4       5\n",
              "...    ...     ...\n",
              "7619  7619      10\n",
              "7620  7620      10\n",
              "7621  7621       0\n",
              "7622  7622      17\n",
              "7623  7623      11\n",
              "\n",
              "[7624 rows x 2 columns]"
            ],
            "text/html": [
              "\n",
              "  <div id=\"df-cdc7953f-b4e3-4629-902b-2ea9da7f4e12\" class=\"colab-df-container\">\n",
              "    <div>\n",
              "<style scoped>\n",
              "    .dataframe tbody tr th:only-of-type {\n",
              "        vertical-align: middle;\n",
              "    }\n",
              "\n",
              "    .dataframe tbody tr th {\n",
              "        vertical-align: top;\n",
              "    }\n",
              "\n",
              "    .dataframe thead th {\n",
              "        text-align: right;\n",
              "    }\n",
              "</style>\n",
              "<table border=\"1\" class=\"dataframe\">\n",
              "  <thead>\n",
              "    <tr style=\"text-align: right;\">\n",
              "      <th></th>\n",
              "      <th>id</th>\n",
              "      <th>target</th>\n",
              "    </tr>\n",
              "  </thead>\n",
              "  <tbody>\n",
              "    <tr>\n",
              "      <th>0</th>\n",
              "      <td>0</td>\n",
              "      <td>8</td>\n",
              "    </tr>\n",
              "    <tr>\n",
              "      <th>1</th>\n",
              "      <td>1</td>\n",
              "      <td>17</td>\n",
              "    </tr>\n",
              "    <tr>\n",
              "      <th>2</th>\n",
              "      <td>2</td>\n",
              "      <td>3</td>\n",
              "    </tr>\n",
              "    <tr>\n",
              "      <th>3</th>\n",
              "      <td>3</td>\n",
              "      <td>17</td>\n",
              "    </tr>\n",
              "    <tr>\n",
              "      <th>4</th>\n",
              "      <td>4</td>\n",
              "      <td>5</td>\n",
              "    </tr>\n",
              "    <tr>\n",
              "      <th>...</th>\n",
              "      <td>...</td>\n",
              "      <td>...</td>\n",
              "    </tr>\n",
              "    <tr>\n",
              "      <th>7619</th>\n",
              "      <td>7619</td>\n",
              "      <td>10</td>\n",
              "    </tr>\n",
              "    <tr>\n",
              "      <th>7620</th>\n",
              "      <td>7620</td>\n",
              "      <td>10</td>\n",
              "    </tr>\n",
              "    <tr>\n",
              "      <th>7621</th>\n",
              "      <td>7621</td>\n",
              "      <td>0</td>\n",
              "    </tr>\n",
              "    <tr>\n",
              "      <th>7622</th>\n",
              "      <td>7622</td>\n",
              "      <td>17</td>\n",
              "    </tr>\n",
              "    <tr>\n",
              "      <th>7623</th>\n",
              "      <td>7623</td>\n",
              "      <td>11</td>\n",
              "    </tr>\n",
              "  </tbody>\n",
              "</table>\n",
              "<p>7624 rows × 2 columns</p>\n",
              "</div>\n",
              "    <div class=\"colab-df-buttons\">\n",
              "\n",
              "  <div class=\"colab-df-container\">\n",
              "    <button class=\"colab-df-convert\" onclick=\"convertToInteractive('df-cdc7953f-b4e3-4629-902b-2ea9da7f4e12')\"\n",
              "            title=\"Convert this dataframe to an interactive table.\"\n",
              "            style=\"display:none;\">\n",
              "\n",
              "  <svg xmlns=\"http://www.w3.org/2000/svg\" height=\"24px\" viewBox=\"0 -960 960 960\">\n",
              "    <path d=\"M120-120v-720h720v720H120Zm60-500h600v-160H180v160Zm220 220h160v-160H400v160Zm0 220h160v-160H400v160ZM180-400h160v-160H180v160Zm440 0h160v-160H620v160ZM180-180h160v-160H180v160Zm440 0h160v-160H620v160Z\"/>\n",
              "  </svg>\n",
              "    </button>\n",
              "\n",
              "  <style>\n",
              "    .colab-df-container {\n",
              "      display:flex;\n",
              "      gap: 12px;\n",
              "    }\n",
              "\n",
              "    .colab-df-convert {\n",
              "      background-color: #E8F0FE;\n",
              "      border: none;\n",
              "      border-radius: 50%;\n",
              "      cursor: pointer;\n",
              "      display: none;\n",
              "      fill: #1967D2;\n",
              "      height: 32px;\n",
              "      padding: 0 0 0 0;\n",
              "      width: 32px;\n",
              "    }\n",
              "\n",
              "    .colab-df-convert:hover {\n",
              "      background-color: #E2EBFA;\n",
              "      box-shadow: 0px 1px 2px rgba(60, 64, 67, 0.3), 0px 1px 3px 1px rgba(60, 64, 67, 0.15);\n",
              "      fill: #174EA6;\n",
              "    }\n",
              "\n",
              "    .colab-df-buttons div {\n",
              "      margin-bottom: 4px;\n",
              "    }\n",
              "\n",
              "    [theme=dark] .colab-df-convert {\n",
              "      background-color: #3B4455;\n",
              "      fill: #D2E3FC;\n",
              "    }\n",
              "\n",
              "    [theme=dark] .colab-df-convert:hover {\n",
              "      background-color: #434B5C;\n",
              "      box-shadow: 0px 1px 3px 1px rgba(0, 0, 0, 0.15);\n",
              "      filter: drop-shadow(0px 1px 2px rgba(0, 0, 0, 0.3));\n",
              "      fill: #FFFFFF;\n",
              "    }\n",
              "  </style>\n",
              "\n",
              "    <script>\n",
              "      const buttonEl =\n",
              "        document.querySelector('#df-cdc7953f-b4e3-4629-902b-2ea9da7f4e12 button.colab-df-convert');\n",
              "      buttonEl.style.display =\n",
              "        google.colab.kernel.accessAllowed ? 'block' : 'none';\n",
              "\n",
              "      async function convertToInteractive(key) {\n",
              "        const element = document.querySelector('#df-cdc7953f-b4e3-4629-902b-2ea9da7f4e12');\n",
              "        const dataTable =\n",
              "          await google.colab.kernel.invokeFunction('convertToInteractive',\n",
              "                                                    [key], {});\n",
              "        if (!dataTable) return;\n",
              "\n",
              "        const docLinkHtml = 'Like what you see? Visit the ' +\n",
              "          '<a target=\"_blank\" href=https://colab.research.google.com/notebooks/data_table.ipynb>data table notebook</a>'\n",
              "          + ' to learn more about interactive tables.';\n",
              "        element.innerHTML = '';\n",
              "        dataTable['output_type'] = 'display_data';\n",
              "        await google.colab.output.renderOutput(dataTable, element);\n",
              "        const docLink = document.createElement('div');\n",
              "        docLink.innerHTML = docLinkHtml;\n",
              "        element.appendChild(docLink);\n",
              "      }\n",
              "    </script>\n",
              "  </div>\n",
              "\n",
              "\n",
              "<div id=\"df-03417b8d-9268-4d1d-b980-c20e228f079e\">\n",
              "  <button class=\"colab-df-quickchart\" onclick=\"quickchart('df-03417b8d-9268-4d1d-b980-c20e228f079e')\"\n",
              "            title=\"Suggest charts\"\n",
              "            style=\"display:none;\">\n",
              "\n",
              "<svg xmlns=\"http://www.w3.org/2000/svg\" height=\"24px\"viewBox=\"0 0 24 24\"\n",
              "     width=\"24px\">\n",
              "    <g>\n",
              "        <path d=\"M19 3H5c-1.1 0-2 .9-2 2v14c0 1.1.9 2 2 2h14c1.1 0 2-.9 2-2V5c0-1.1-.9-2-2-2zM9 17H7v-7h2v7zm4 0h-2V7h2v10zm4 0h-2v-4h2v4z\"/>\n",
              "    </g>\n",
              "</svg>\n",
              "  </button>\n",
              "\n",
              "<style>\n",
              "  .colab-df-quickchart {\n",
              "      --bg-color: #E8F0FE;\n",
              "      --fill-color: #1967D2;\n",
              "      --hover-bg-color: #E2EBFA;\n",
              "      --hover-fill-color: #174EA6;\n",
              "      --disabled-fill-color: #AAA;\n",
              "      --disabled-bg-color: #DDD;\n",
              "  }\n",
              "\n",
              "  [theme=dark] .colab-df-quickchart {\n",
              "      --bg-color: #3B4455;\n",
              "      --fill-color: #D2E3FC;\n",
              "      --hover-bg-color: #434B5C;\n",
              "      --hover-fill-color: #FFFFFF;\n",
              "      --disabled-bg-color: #3B4455;\n",
              "      --disabled-fill-color: #666;\n",
              "  }\n",
              "\n",
              "  .colab-df-quickchart {\n",
              "    background-color: var(--bg-color);\n",
              "    border: none;\n",
              "    border-radius: 50%;\n",
              "    cursor: pointer;\n",
              "    display: none;\n",
              "    fill: var(--fill-color);\n",
              "    height: 32px;\n",
              "    padding: 0;\n",
              "    width: 32px;\n",
              "  }\n",
              "\n",
              "  .colab-df-quickchart:hover {\n",
              "    background-color: var(--hover-bg-color);\n",
              "    box-shadow: 0 1px 2px rgba(60, 64, 67, 0.3), 0 1px 3px 1px rgba(60, 64, 67, 0.15);\n",
              "    fill: var(--button-hover-fill-color);\n",
              "  }\n",
              "\n",
              "  .colab-df-quickchart-complete:disabled,\n",
              "  .colab-df-quickchart-complete:disabled:hover {\n",
              "    background-color: var(--disabled-bg-color);\n",
              "    fill: var(--disabled-fill-color);\n",
              "    box-shadow: none;\n",
              "  }\n",
              "\n",
              "  .colab-df-spinner {\n",
              "    border: 2px solid var(--fill-color);\n",
              "    border-color: transparent;\n",
              "    border-bottom-color: var(--fill-color);\n",
              "    animation:\n",
              "      spin 1s steps(1) infinite;\n",
              "  }\n",
              "\n",
              "  @keyframes spin {\n",
              "    0% {\n",
              "      border-color: transparent;\n",
              "      border-bottom-color: var(--fill-color);\n",
              "      border-left-color: var(--fill-color);\n",
              "    }\n",
              "    20% {\n",
              "      border-color: transparent;\n",
              "      border-left-color: var(--fill-color);\n",
              "      border-top-color: var(--fill-color);\n",
              "    }\n",
              "    30% {\n",
              "      border-color: transparent;\n",
              "      border-left-color: var(--fill-color);\n",
              "      border-top-color: var(--fill-color);\n",
              "      border-right-color: var(--fill-color);\n",
              "    }\n",
              "    40% {\n",
              "      border-color: transparent;\n",
              "      border-right-color: var(--fill-color);\n",
              "      border-top-color: var(--fill-color);\n",
              "    }\n",
              "    60% {\n",
              "      border-color: transparent;\n",
              "      border-right-color: var(--fill-color);\n",
              "    }\n",
              "    80% {\n",
              "      border-color: transparent;\n",
              "      border-right-color: var(--fill-color);\n",
              "      border-bottom-color: var(--fill-color);\n",
              "    }\n",
              "    90% {\n",
              "      border-color: transparent;\n",
              "      border-bottom-color: var(--fill-color);\n",
              "    }\n",
              "  }\n",
              "</style>\n",
              "\n",
              "  <script>\n",
              "    async function quickchart(key) {\n",
              "      const quickchartButtonEl =\n",
              "        document.querySelector('#' + key + ' button');\n",
              "      quickchartButtonEl.disabled = true;  // To prevent multiple clicks.\n",
              "      quickchartButtonEl.classList.add('colab-df-spinner');\n",
              "      try {\n",
              "        const charts = await google.colab.kernel.invokeFunction(\n",
              "            'suggestCharts', [key], {});\n",
              "      } catch (error) {\n",
              "        console.error('Error during call to suggestCharts:', error);\n",
              "      }\n",
              "      quickchartButtonEl.classList.remove('colab-df-spinner');\n",
              "      quickchartButtonEl.classList.add('colab-df-quickchart-complete');\n",
              "    }\n",
              "    (() => {\n",
              "      let quickchartButtonEl =\n",
              "        document.querySelector('#df-03417b8d-9268-4d1d-b980-c20e228f079e button');\n",
              "      quickchartButtonEl.style.display =\n",
              "        google.colab.kernel.accessAllowed ? 'block' : 'none';\n",
              "    })();\n",
              "  </script>\n",
              "</div>\n",
              "\n",
              "  <div id=\"id_dfc1567a-0c97-4d22-892c-e93e180ba0f3\">\n",
              "    <style>\n",
              "      .colab-df-generate {\n",
              "        background-color: #E8F0FE;\n",
              "        border: none;\n",
              "        border-radius: 50%;\n",
              "        cursor: pointer;\n",
              "        display: none;\n",
              "        fill: #1967D2;\n",
              "        height: 32px;\n",
              "        padding: 0 0 0 0;\n",
              "        width: 32px;\n",
              "      }\n",
              "\n",
              "      .colab-df-generate:hover {\n",
              "        background-color: #E2EBFA;\n",
              "        box-shadow: 0px 1px 2px rgba(60, 64, 67, 0.3), 0px 1px 3px 1px rgba(60, 64, 67, 0.15);\n",
              "        fill: #174EA6;\n",
              "      }\n",
              "\n",
              "      [theme=dark] .colab-df-generate {\n",
              "        background-color: #3B4455;\n",
              "        fill: #D2E3FC;\n",
              "      }\n",
              "\n",
              "      [theme=dark] .colab-df-generate:hover {\n",
              "        background-color: #434B5C;\n",
              "        box-shadow: 0px 1px 3px 1px rgba(0, 0, 0, 0.15);\n",
              "        filter: drop-shadow(0px 1px 2px rgba(0, 0, 0, 0.3));\n",
              "        fill: #FFFFFF;\n",
              "      }\n",
              "    </style>\n",
              "    <button class=\"colab-df-generate\" onclick=\"generateWithVariable('nodes')\"\n",
              "            title=\"Generate code using this dataframe.\"\n",
              "            style=\"display:none;\">\n",
              "\n",
              "  <svg xmlns=\"http://www.w3.org/2000/svg\" height=\"24px\"viewBox=\"0 0 24 24\"\n",
              "       width=\"24px\">\n",
              "    <path d=\"M7,19H8.4L18.45,9,17,7.55,7,17.6ZM5,21V16.75L18.45,3.32a2,2,0,0,1,2.83,0l1.4,1.43a1.91,1.91,0,0,1,.58,1.4,1.91,1.91,0,0,1-.58,1.4L9.25,21ZM18.45,9,17,7.55Zm-12,3A5.31,5.31,0,0,0,4.9,8.1,5.31,5.31,0,0,0,1,6.5,5.31,5.31,0,0,0,4.9,4.9,5.31,5.31,0,0,0,6.5,1,5.31,5.31,0,0,0,8.1,4.9,5.31,5.31,0,0,0,12,6.5,5.46,5.46,0,0,0,6.5,12Z\"/>\n",
              "  </svg>\n",
              "    </button>\n",
              "    <script>\n",
              "      (() => {\n",
              "      const buttonEl =\n",
              "        document.querySelector('#id_dfc1567a-0c97-4d22-892c-e93e180ba0f3 button.colab-df-generate');\n",
              "      buttonEl.style.display =\n",
              "        google.colab.kernel.accessAllowed ? 'block' : 'none';\n",
              "\n",
              "      buttonEl.onclick = () => {\n",
              "        google.colab.notebook.generateWithVariable('nodes');\n",
              "      }\n",
              "      })();\n",
              "    </script>\n",
              "  </div>\n",
              "\n",
              "    </div>\n",
              "  </div>\n"
            ],
            "application/vnd.google.colaboratory.intrinsic+json": {
              "type": "dataframe",
              "variable_name": "nodes",
              "summary": "{\n  \"name\": \"nodes\",\n  \"rows\": 7624,\n  \"fields\": [\n    {\n      \"column\": \"id\",\n      \"properties\": {\n        \"dtype\": \"number\",\n        \"std\": 2201,\n        \"min\": 0,\n        \"max\": 7623,\n        \"num_unique_values\": 7624,\n        \"samples\": [\n          7235,\n          5487,\n          5850\n        ],\n        \"semantic_type\": \"\",\n        \"description\": \"\"\n      }\n    },\n    {\n      \"column\": \"target\",\n      \"properties\": {\n        \"dtype\": \"number\",\n        \"std\": 5,\n        \"min\": 0,\n        \"max\": 17,\n        \"num_unique_values\": 18,\n        \"samples\": [\n          8,\n          17,\n          14\n        ],\n        \"semantic_type\": \"\",\n        \"description\": \"\"\n      }\n    }\n  ]\n}"
            }
          },
          "metadata": {},
          "execution_count": 7
        }
      ]
    },
    {
      "cell_type": "code",
      "source": [
        "G = nx.Graph()\n",
        "G = G.to_undirected()\n",
        "edges_touples = edges.apply(lambda x: (x['node_1'], x['node_2']), axis=1)\n",
        "G.add_edges_from(edges_touples)"
      ],
      "metadata": {
        "id": "bmZBUGpuUAoe"
      },
      "execution_count": 8,
      "outputs": []
    },
    {
      "cell_type": "code",
      "source": [
        "num_nodes = G.number_of_nodes()\n",
        "print(f\"Number of nodes in graph G: {num_nodes}\")"
      ],
      "metadata": {
        "colab": {
          "base_uri": "https://localhost:8080/",
          "height": 0
        },
        "id": "A6R_s2LcUBX2",
        "outputId": "39d88d20-f6ae-4774-abe5-bb4bb880e9ad"
      },
      "execution_count": 9,
      "outputs": [
        {
          "output_type": "stream",
          "name": "stdout",
          "text": [
            "Number of nodes in graph G: 7624\n"
          ]
        }
      ]
    },
    {
      "cell_type": "code",
      "source": [
        "num_edges = G.number_of_edges()\n",
        "print(f\"Number of edges in graph G: {num_edges}\")"
      ],
      "metadata": {
        "colab": {
          "base_uri": "https://localhost:8080/",
          "height": 0
        },
        "id": "4dDyZ2f3UCks",
        "outputId": "cfc78de5-2c54-4279-f80c-2dc40a621a8d"
      },
      "execution_count": 10,
      "outputs": [
        {
          "output_type": "stream",
          "name": "stdout",
          "text": [
            "Number of edges in graph G: 27806\n"
          ]
        }
      ]
    },
    {
      "cell_type": "code",
      "source": [
        "plot_degree_histogram(G)"
      ],
      "metadata": {
        "colab": {
          "base_uri": "https://localhost:8080/",
          "height": 607
        },
        "id": "ZBAT8-yNUDji",
        "outputId": "edbc1ba4-f01c-445c-95e5-9c9daba14ac5"
      },
      "execution_count": 11,
      "outputs": [
        {
          "output_type": "display_data",
          "data": {
            "text/plain": [
              "<Figure size 1200x600 with 2 Axes>"
            ],
            "image/png": "[encoded data removed]"
          },
          "metadata": {}
        }
      ]
    },
    {
      "cell_type": "code",
      "source": [
        "small_degree_nodes = [node for node,degree in nx.degree(G) if degree < 2]\n",
        "print(f\"Number of nodes with degree less than 2: {len(small_degree_nodes)}\")"
      ],
      "metadata": {
        "colab": {
          "base_uri": "https://localhost:8080/",
          "height": 0
        },
        "id": "KC-JIhBBUE3C",
        "outputId": "122f3559-0d8b-4bcb-bdfc-db2697ebe318"
      },
      "execution_count": 12,
      "outputs": [
        {
          "output_type": "stream",
          "name": "stdout",
          "text": [
            "Number of nodes with degree less than 2: 1754\n"
          ]
        }
      ]
    },
    {
      "cell_type": "code",
      "source": [
        "G.remove_nodes_from(small_degree_nodes)"
      ],
      "metadata": {
        "id": "wznXBLzKUFv5"
      },
      "execution_count": 13,
      "outputs": []
    },
    {
      "cell_type": "code",
      "source": [
        "new_nodes = G.number_of_nodes()\n",
        "print(f\"Number of nodes after filtering nodes with degree less than 2: {new_nodes}\")"
      ],
      "metadata": {
        "colab": {
          "base_uri": "https://localhost:8080/",
          "height": 0
        },
        "id": "VMeLQrQGUGuq",
        "outputId": "57260f5b-5c3c-45b3-c65c-3012cdb11bf7"
      },
      "execution_count": 14,
      "outputs": [
        {
          "output_type": "stream",
          "name": "stdout",
          "text": [
            "Number of nodes after filtering nodes with degree less than 2: 5870\n"
          ]
        }
      ]
    },
    {
      "cell_type": "code",
      "source": [
        "new_edges = G.number_of_edges()\n",
        "print(f\"Number of edges after filtering nodes with degree less than 2: {new_edges}\")"
      ],
      "metadata": {
        "colab": {
          "base_uri": "https://localhost:8080/",
          "height": 0
        },
        "id": "oh4e_dzlUH0W",
        "outputId": "de523d85-c4e0-4ed3-9160-e0d3af543cdb"
      },
      "execution_count": 15,
      "outputs": [
        {
          "output_type": "stream",
          "name": "stdout",
          "text": [
            "Number of edges after filtering nodes with degree less than 2: 26052\n"
          ]
        }
      ]
    },
    {
      "cell_type": "code",
      "source": [
        "# remove deleted node from nodes df\n",
        "nodes = nodes[~nodes['id'].isin(small_degree_nodes)]\n",
        "nodes.reset_index(drop=True, inplace=True)"
      ],
      "metadata": {
        "id": "AH6IPF-wUIpl"
      },
      "execution_count": 16,
      "outputs": []
    },
    {
      "cell_type": "code",
      "source": [
        "file_path = '/content/lastfm_asia_features.json'\n",
        "\n",
        "with open(file_path, \"r\") as file:\n",
        "    json_data = json.load(file)\n"
      ],
      "metadata": {
        "id": "Lujg1LYhUJlz"
      },
      "execution_count": 17,
      "outputs": []
    },
    {
      "cell_type": "code",
      "source": [
        "for node in small_degree_nodes:\n",
        "  json_data.pop(str(node))"
      ],
      "metadata": {
        "id": "GNI9oStgUKhs"
      },
      "execution_count": 18,
      "outputs": []
    },
    {
      "cell_type": "code",
      "source": [
        "target_data = {}\n",
        "features_data = {}\n",
        "for key in json_data:\n",
        "  features_data[int(key)] = json_data[str(key)][1:-1]\n",
        "  target_data[int(key)] = nodes.loc[nodes['id'] == int(key)]['target'].values[0]\n"
      ],
      "metadata": {
        "id": "E-6EgMM2ULcu"
      },
      "execution_count": 19,
      "outputs": []
    },
    {
      "cell_type": "code",
      "source": [
        "nx.set_node_attributes(G, features_data, 'features')\n",
        "nx.set_node_attributes(G, target_data, 'target')"
      ],
      "metadata": {
        "id": "xKz_4J38USod"
      },
      "execution_count": 20,
      "outputs": []
    },
    {
      "cell_type": "code",
      "source": [
        "plot_node_targets(nodes)"
      ],
      "metadata": {
        "id": "BkOOI-oeUTkL",
        "colab": {
          "base_uri": "https://localhost:8080/",
          "height": 564
        },
        "outputId": "52175d50-516c-44f6-c8aa-b6773d2f9e08"
      },
      "execution_count": 24,
      "outputs": [
        {
          "output_type": "display_data",
          "data": {
            "text/plain": [
              "<Figure size 1000x600 with 1 Axes>"
            ],
            "image/png": "[encoded data removed]"
          },
          "metadata": {}
        }
      ]
    },
    {
      "cell_type": "markdown",
      "source": [
        "## 2 - Properties"
      ],
      "metadata": {
        "id": "iBuAjbvOUXBt"
      }
    },
    {
      "cell_type": "markdown",
      "source": [
        "### Network Density\n",
        "\n",
        "**Density** - the ratio between the actual number of edges and the maximum possible number of edges in the network\n",
        "\n",
        "$$\n",
        "\\frac{edges}{N \\cdot (N-1) \\cdot \\frac{1}{2}}\n",
        "$$"
      ],
      "metadata": {
        "id": "YtwaOuS8UZ31"
      }
    },
    {
      "cell_type": "code",
      "source": [
        "density = nx.density(G)\n",
        "print(f\"The density of graph G is {density:.4f}\")"
      ],
      "metadata": {
        "id": "9l9AFLLnUXV0",
        "colab": {
          "base_uri": "https://localhost:8080/"
        },
        "outputId": "1d2b4970-24ab-4e6d-ca92-602522c85d3c"
      },
      "execution_count": 28,
      "outputs": [
        {
          "output_type": "stream",
          "name": "stdout",
          "text": [
            "The density of graph G is 0.0015\n"
          ]
        }
      ]
    },
    {
      "cell_type": "markdown",
      "source": [
        "### Degree distribution"
      ],
      "metadata": {
        "id": "-kObiLQfUbfp"
      }
    },
    {
      "cell_type": "code",
      "source": [
        "plot_degree_histogram(G)"
      ],
      "metadata": {
        "id": "5buTjDTRUVlm",
        "colab": {
          "base_uri": "https://localhost:8080/",
          "height": 607
        },
        "outputId": "88d8b3af-2fbd-42f4-81be-3407e7f2a339"
      },
      "execution_count": 25,
      "outputs": [
        {
          "output_type": "display_data",
          "data": {
            "text/plain": [
              "<Figure size 1200x600 with 2 Axes>"
            ],
            "image/png": "[encoded data removed]"
          },
          "metadata": {}
        }
      ]
    },
    {
      "cell_type": "markdown",
      "source": [
        "We can see, that compared to the plot without filtering nodes with degree less than 2 - the general shapes of 2 plots remain similiar, but the probability and number of nodes that has samll degree decreased.\n",
        "The probability decreased and not initiate since the removal of small degree nodes, may caused that other nodes has less neighbours and therfore they degree decreased."
      ],
      "metadata": {
        "id": "he4TsOXJUcuM"
      }
    },
    {
      "cell_type": "markdown",
      "source": [
        "### Diameter and Average Path Length"
      ],
      "metadata": {
        "id": "y3ncPPVTUhbx"
      }
    },
    {
      "cell_type": "markdown",
      "source": [
        "**Diameter:** The maximum shortest path/distance between any pair of nodes in a graph\n",
        "\n",
        "$$\n",
        "ħ= \\sum_{u, v \\neq u} \\frac{h_u,_v}{N * (N-1) }\n",
        "$$\n"
      ],
      "metadata": {
        "id": "7nsKAW-PUnIx"
      }
    },
    {
      "cell_type": "code",
      "source": [
        "diameter = nx.diameter(G)\n",
        "print(f\"The diameter of graph G is {diameter}\")"
      ],
      "metadata": {
        "id": "TvjUjF9EUgpJ",
        "colab": {
          "base_uri": "https://localhost:8080/"
        },
        "outputId": "0451baea-5246-45a5-828f-950647b96d11"
      },
      "execution_count": 29,
      "outputs": [
        {
          "output_type": "stream",
          "name": "stdout",
          "text": [
            "The diameter of graph G is 13\n"
          ]
        }
      ]
    },
    {
      "cell_type": "code",
      "source": [
        "average_path_length = nx.average_shortest_path_length(G)\n",
        "print(f\"The average path length of graph G is {average_path_length:.2f}\")"
      ],
      "metadata": {
        "id": "dLJslA1sUoUF",
        "colab": {
          "base_uri": "https://localhost:8080/"
        },
        "outputId": "cf432e05-c450-4236-8303-b2ea7b483ad2"
      },
      "execution_count": 30,
      "outputs": [
        {
          "output_type": "stream",
          "name": "stdout",
          "text": [
            "The average path length of graph G is 4.87\n"
          ]
        }
      ]
    },
    {
      "cell_type": "markdown",
      "source": [
        "### Clustering Coefficient"
      ],
      "metadata": {
        "id": "lfH_29EPUqkd"
      }
    },
    {
      "cell_type": "code",
      "source": [
        "cluster_coef = approximation.average_clustering(G)"
      ],
      "metadata": {
        "id": "_Cy4aDC8Upc_"
      },
      "execution_count": 31,
      "outputs": []
    },
    {
      "cell_type": "code",
      "source": [
        "cluster_coef"
      ],
      "metadata": {
        "id": "sra9eOQ2Ur-l",
        "colab": {
          "base_uri": "https://localhost:8080/"
        },
        "outputId": "58300fde-2f8e-4bf9-8504-cabcd45b09ee"
      },
      "execution_count": 32,
      "outputs": [
        {
          "output_type": "execute_result",
          "data": {
            "text/plain": [
              "0.315"
            ]
          },
          "metadata": {},
          "execution_count": 32
        }
      ]
    },
    {
      "cell_type": "markdown",
      "source": [
        "## 3 - Centrality"
      ],
      "metadata": {
        "id": "HizBFOXnUyGr"
      }
    },
    {
      "cell_type": "code",
      "source": [
        "top_10_nodes = []"
      ],
      "metadata": {
        "id": "JUi8UTC8Uw3R"
      },
      "execution_count": 35,
      "outputs": []
    },
    {
      "cell_type": "markdown",
      "source": [
        "### Degree Centrality"
      ],
      "metadata": {
        "id": "PTkr0Oa6U0nz"
      }
    },
    {
      "cell_type": "code",
      "source": [
        "degree_centrality = nx.degree_centrality(G)\n",
        "nx.set_node_attributes(G, degree_centrality, 'degree_centrality')"
      ],
      "metadata": {
        "id": "v_4rdsYbUzct"
      },
      "execution_count": 36,
      "outputs": []
    },
    {
      "cell_type": "code",
      "source": [
        "top_dc = print_top_10_centerality(degree_centrality)"
      ],
      "metadata": {
        "id": "lHL2Yc5UU2zm",
        "colab": {
          "base_uri": "https://localhost:8080/"
        },
        "outputId": "817c6fe9-8515-4c25-ac18-0daeb12b77ff"
      },
      "execution_count": 37,
      "outputs": [
        {
          "output_type": "stream",
          "name": "stdout",
          "text": [
            "1. Node 7237: 0.0360\n",
            "2. Node 524: 0.0290\n",
            "3. Node 3530: 0.0288\n",
            "4. Node 3450: 0.0256\n",
            "5. Node 4785: 0.0249\n",
            "6. Node 2510: 0.0228\n",
            "7. Node 3597: 0.0204\n",
            "8. Node 6101: 0.0191\n",
            "9. Node 5127: 0.0186\n",
            "10. Node 2854: 0.0184\n"
          ]
        }
      ]
    },
    {
      "cell_type": "code",
      "source": [
        "top_10_nodes += top_dc"
      ],
      "metadata": {
        "id": "gS6hiGaKU4jC"
      },
      "execution_count": 38,
      "outputs": []
    },
    {
      "cell_type": "markdown",
      "source": [
        "### Betweenness Centrality"
      ],
      "metadata": {
        "id": "xIaLZe5OU6Cw"
      }
    },
    {
      "cell_type": "code",
      "source": [
        "betweenness_centrality = nx.betweenness_centrality(G, new_nodes)\n",
        "nx.set_node_attributes(G, betweenness_centrality, 'betweenness_centrality')"
      ],
      "metadata": {
        "id": "f-7raJMQU6Xu"
      },
      "execution_count": 39,
      "outputs": []
    },
    {
      "cell_type": "code",
      "source": [
        "top_bc = print_top_10_centerality(betweenness_centrality)"
      ],
      "metadata": {
        "id": "5zmT8VlHU7_O",
        "colab": {
          "base_uri": "https://localhost:8080/"
        },
        "outputId": "fae25dc0-56ff-47d0-a96d-e48a8e675e5e"
      },
      "execution_count": 40,
      "outputs": [
        {
          "output_type": "stream",
          "name": "stdout",
          "text": [
            "1. Node 7237: 0.0888\n",
            "2. Node 7199: 0.0877\n",
            "3. Node 2854: 0.0734\n",
            "4. Node 4356: 0.0663\n",
            "5. Node 6101: 0.0503\n",
            "6. Node 4338: 0.0417\n",
            "7. Node 5454: 0.0412\n",
            "8. Node 3450: 0.0365\n",
            "9. Node 5127: 0.0356\n",
            "10. Node 3103: 0.0343\n"
          ]
        }
      ]
    },
    {
      "cell_type": "code",
      "source": [
        "top_10_nodes += top_bc"
      ],
      "metadata": {
        "id": "k9N-pQK0U87v"
      },
      "execution_count": 41,
      "outputs": []
    },
    {
      "cell_type": "markdown",
      "source": [
        "### Closeness Centrality"
      ],
      "metadata": {
        "id": "MuuS2WNIVCnj"
      }
    },
    {
      "cell_type": "code",
      "source": [
        "closeness_centrality = nx.closeness_centrality(G)\n",
        "nx.set_node_attributes(G, closeness_centrality, 'closeness_centrality')\n"
      ],
      "metadata": {
        "id": "I0dcEYGeVCGp"
      },
      "execution_count": 42,
      "outputs": []
    },
    {
      "cell_type": "code",
      "source": [
        "top_cc = print_top_10_centerality(closeness_centrality)"
      ],
      "metadata": {
        "id": "ImgPExjPU_bU",
        "colab": {
          "base_uri": "https://localhost:8080/"
        },
        "outputId": "f125e035-bd3b-438b-b238-ca8e002b9dea"
      },
      "execution_count": 43,
      "outputs": [
        {
          "output_type": "stream",
          "name": "stdout",
          "text": [
            "1. Node 7199: 0.3067\n",
            "2. Node 7237: 0.3017\n",
            "3. Node 4356: 0.2970\n",
            "4. Node 2854: 0.2941\n",
            "5. Node 5454: 0.2934\n",
            "6. Node 6101: 0.2879\n",
            "7. Node 3544: 0.2875\n",
            "8. Node 5127: 0.2873\n",
            "9. Node 3450: 0.2851\n",
            "10. Node 4900: 0.2827\n"
          ]
        }
      ]
    },
    {
      "cell_type": "code",
      "source": [
        "top_10_nodes += top_cc"
      ],
      "metadata": {
        "id": "MAFfF0wEVErL"
      },
      "execution_count": 44,
      "outputs": []
    },
    {
      "cell_type": "markdown",
      "source": [
        "### Eigenvector Centrality"
      ],
      "metadata": {
        "id": "P_XKGodeVGpg"
      }
    },
    {
      "cell_type": "code",
      "source": [
        "eigenvector_centrality = nx.eigenvector_centrality(G)\n",
        "nx.set_node_attributes(G, eigenvector_centrality, 'eigenvector_centrality')"
      ],
      "metadata": {
        "id": "wDcJ2mLRVFWf"
      },
      "execution_count": 45,
      "outputs": []
    },
    {
      "cell_type": "code",
      "source": [
        "top_ec = print_top_10_centerality(eigenvector_centrality)"
      ],
      "metadata": {
        "id": "rBVGcdMzVIHe",
        "colab": {
          "base_uri": "https://localhost:8080/"
        },
        "outputId": "99dbacf6-7331-467e-9355-3c5917e8c6bc"
      },
      "execution_count": 46,
      "outputs": [
        {
          "output_type": "stream",
          "name": "stdout",
          "text": [
            "1. Node 7237: 0.2556\n",
            "2. Node 3240: 0.1966\n",
            "3. Node 3597: 0.1906\n",
            "4. Node 763: 0.1819\n",
            "5. Node 378: 0.1644\n",
            "6. Node 2083: 0.1629\n",
            "7. Node 1334: 0.1628\n",
            "8. Node 3544: 0.1516\n",
            "9. Node 4809: 0.1515\n",
            "10. Node 2734: 0.1467\n"
          ]
        }
      ]
    },
    {
      "cell_type": "code",
      "source": [
        "top_10_nodes += top_ec"
      ],
      "metadata": {
        "id": "II8panscVJrd"
      },
      "execution_count": 47,
      "outputs": []
    },
    {
      "cell_type": "code",
      "source": [
        "top_10_nodes = set(top_10_nodes)"
      ],
      "metadata": {
        "id": "qrNoq7woVLs0"
      },
      "execution_count": 48,
      "outputs": []
    },
    {
      "cell_type": "markdown",
      "source": [
        "### Get top 10"
      ],
      "metadata": {
        "id": "RQJ94ehxVyR2"
      }
    },
    {
      "cell_type": "code",
      "source": [
        "import csv\n",
        "\n",
        "with open('top_ten.csv', 'w', newline='') as csvfile:\n",
        "    writer = csv.writer(csvfile)\n",
        "    # Write the header\n",
        "    writer.writerow(['node', 'country', 'features', 'degree_centrality', 'betweenness_centrality', 'closeness_centrality', 'eigenvector_centrality'])\n",
        "    for node, attr in G.nodes(data=True):\n",
        "      if node in top_10_nodes:\n",
        "        writer.writerow([node,attr['target'], attr['features'], attr['degree_centrality'], attr['betweenness_centrality'], attr['closeness_centrality'], attr['eigenvector_centrality']])\n"
      ],
      "metadata": {
        "id": "qpQbY0kSVw9z",
        "colab": {
          "base_uri": "https://localhost:8080/"
        },
        "outputId": "b0e8e52c-09ce-4113-c15a-54bdf7622808"
      },
      "execution_count": null,
      "outputs": [
        {
          "output_type": "stream",
          "name": "stdout",
          "text": [
            "747\n"
          ]
        }
      ]
    },
    {
      "cell_type": "code",
      "source": [
        "nx.write_gexf(G,'G-update.gexf')"
      ],
      "metadata": {
        "id": "NREXnWnpVzZ7"
      },
      "execution_count": null,
      "outputs": []
    },
    {
      "cell_type": "markdown",
      "source": [
        "## 6 - Feature Analysis"
      ],
      "metadata": {
        "id": "p0shMGtxV0jv"
      }
    },
    {
      "cell_type": "code",
      "source": [
        "nodes"
      ],
      "metadata": {
        "colab": {
          "base_uri": "https://localhost:8080/",
          "height": 424
        },
        "id": "n-BVvNBGTnrq",
        "outputId": "f026481b-9e07-4b41-861c-416526d22fdd"
      },
      "execution_count": 49,
      "outputs": [
        {
          "output_type": "execute_result",
          "data": {
            "text/plain": [
              "        id  target\n",
              "0        1      17\n",
              "1        2       3\n",
              "2        3      17\n",
              "3        6       3\n",
              "4        7       6\n",
              "...    ...     ...\n",
              "5865  7618      17\n",
              "5866  7620      10\n",
              "5867  7621       0\n",
              "5868  7622      17\n",
              "5869  7623      11\n",
              "\n",
              "[5870 rows x 2 columns]"
            ],
            "text/html": [
              "\n",
              "  <div id=\"df-af21dece-b241-4ee8-9e9b-3a0d9d462c84\" class=\"colab-df-container\">\n",
              "    <div>\n",
              "<style scoped>\n",
              "    .dataframe tbody tr th:only-of-type {\n",
              "        vertical-align: middle;\n",
              "    }\n",
              "\n",
              "    .dataframe tbody tr th {\n",
              "        vertical-align: top;\n",
              "    }\n",
              "\n",
              "    .dataframe thead th {\n",
              "        text-align: right;\n",
              "    }\n",
              "</style>\n",
              "<table border=\"1\" class=\"dataframe\">\n",
              "  <thead>\n",
              "    <tr style=\"text-align: right;\">\n",
              "      <th></th>\n",
              "      <th>id</th>\n",
              "      <th>target</th>\n",
              "    </tr>\n",
              "  </thead>\n",
              "  <tbody>\n",
              "    <tr>\n",
              "      <th>0</th>\n",
              "      <td>1</td>\n",
              "      <td>17</td>\n",
              "    </tr>\n",
              "    <tr>\n",
              "      <th>1</th>\n",
              "      <td>2</td>\n",
              "      <td>3</td>\n",
              "    </tr>\n",
              "    <tr>\n",
              "      <th>2</th>\n",
              "      <td>3</td>\n",
              "      <td>17</td>\n",
              "    </tr>\n",
              "    <tr>\n",
              "      <th>3</th>\n",
              "      <td>6</td>\n",
              "      <td>3</td>\n",
              "    </tr>\n",
              "    <tr>\n",
              "      <th>4</th>\n",
              "      <td>7</td>\n",
              "      <td>6</td>\n",
              "    </tr>\n",
              "    <tr>\n",
              "      <th>...</th>\n",
              "      <td>...</td>\n",
              "      <td>...</td>\n",
              "    </tr>\n",
              "    <tr>\n",
              "      <th>5865</th>\n",
              "      <td>7618</td>\n",
              "      <td>17</td>\n",
              "    </tr>\n",
              "    <tr>\n",
              "      <th>5866</th>\n",
              "      <td>7620</td>\n",
              "      <td>10</td>\n",
              "    </tr>\n",
              "    <tr>\n",
              "      <th>5867</th>\n",
              "      <td>7621</td>\n",
              "      <td>0</td>\n",
              "    </tr>\n",
              "    <tr>\n",
              "      <th>5868</th>\n",
              "      <td>7622</td>\n",
              "      <td>17</td>\n",
              "    </tr>\n",
              "    <tr>\n",
              "      <th>5869</th>\n",
              "      <td>7623</td>\n",
              "      <td>11</td>\n",
              "    </tr>\n",
              "  </tbody>\n",
              "</table>\n",
              "<p>5870 rows × 2 columns</p>\n",
              "</div>\n",
              "    <div class=\"colab-df-buttons\">\n",
              "\n",
              "  <div class=\"colab-df-container\">\n",
              "    <button class=\"colab-df-convert\" onclick=\"convertToInteractive('df-af21dece-b241-4ee8-9e9b-3a0d9d462c84')\"\n",
              "            title=\"Convert this dataframe to an interactive table.\"\n",
              "            style=\"display:none;\">\n",
              "\n",
              "  <svg xmlns=\"http://www.w3.org/2000/svg\" height=\"24px\" viewBox=\"0 -960 960 960\">\n",
              "    <path d=\"M120-120v-720h720v720H120Zm60-500h600v-160H180v160Zm220 220h160v-160H400v160Zm0 220h160v-160H400v160ZM180-400h160v-160H180v160Zm440 0h160v-160H620v160ZM180-180h160v-160H180v160Zm440 0h160v-160H620v160Z\"/>\n",
              "  </svg>\n",
              "    </button>\n",
              "\n",
              "  <style>\n",
              "    .colab-df-container {\n",
              "      display:flex;\n",
              "      gap: 12px;\n",
              "    }\n",
              "\n",
              "    .colab-df-convert {\n",
              "      background-color: #E8F0FE;\n",
              "      border: none;\n",
              "      border-radius: 50%;\n",
              "      cursor: pointer;\n",
              "      display: none;\n",
              "      fill: #1967D2;\n",
              "      height: 32px;\n",
              "      padding: 0 0 0 0;\n",
              "      width: 32px;\n",
              "    }\n",
              "\n",
              "    .colab-df-convert:hover {\n",
              "      background-color: #E2EBFA;\n",
              "      box-shadow: 0px 1px 2px rgba(60, 64, 67, 0.3), 0px 1px 3px 1px rgba(60, 64, 67, 0.15);\n",
              "      fill: #174EA6;\n",
              "    }\n",
              "\n",
              "    .colab-df-buttons div {\n",
              "      margin-bottom: 4px;\n",
              "    }\n",
              "\n",
              "    [theme=dark] .colab-df-convert {\n",
              "      background-color: #3B4455;\n",
              "      fill: #D2E3FC;\n",
              "    }\n",
              "\n",
              "    [theme=dark] .colab-df-convert:hover {\n",
              "      background-color: #434B5C;\n",
              "      box-shadow: 0px 1px 3px 1px rgba(0, 0, 0, 0.15);\n",
              "      filter: drop-shadow(0px 1px 2px rgba(0, 0, 0, 0.3));\n",
              "      fill: #FFFFFF;\n",
              "    }\n",
              "  </style>\n",
              "\n",
              "    <script>\n",
              "      const buttonEl =\n",
              "        document.querySelector('#df-af21dece-b241-4ee8-9e9b-3a0d9d462c84 button.colab-df-convert');\n",
              "      buttonEl.style.display =\n",
              "        google.colab.kernel.accessAllowed ? 'block' : 'none';\n",
              "\n",
              "      async function convertToInteractive(key) {\n",
              "        const element = document.querySelector('#df-af21dece-b241-4ee8-9e9b-3a0d9d462c84');\n",
              "        const dataTable =\n",
              "          await google.colab.kernel.invokeFunction('convertToInteractive',\n",
              "                                                    [key], {});\n",
              "        if (!dataTable) return;\n",
              "\n",
              "        const docLinkHtml = 'Like what you see? Visit the ' +\n",
              "          '<a target=\"_blank\" href=https://colab.research.google.com/notebooks/data_table.ipynb>data table notebook</a>'\n",
              "          + ' to learn more about interactive tables.';\n",
              "        element.innerHTML = '';\n",
              "        dataTable['output_type'] = 'display_data';\n",
              "        await google.colab.output.renderOutput(dataTable, element);\n",
              "        const docLink = document.createElement('div');\n",
              "        docLink.innerHTML = docLinkHtml;\n",
              "        element.appendChild(docLink);\n",
              "      }\n",
              "    </script>\n",
              "  </div>\n",
              "\n",
              "\n",
              "<div id=\"df-73499b6e-f7e9-454d-a6c0-dbe1c10a6e74\">\n",
              "  <button class=\"colab-df-quickchart\" onclick=\"quickchart('df-73499b6e-f7e9-454d-a6c0-dbe1c10a6e74')\"\n",
              "            title=\"Suggest charts\"\n",
              "            style=\"display:none;\">\n",
              "\n",
              "<svg xmlns=\"http://www.w3.org/2000/svg\" height=\"24px\"viewBox=\"0 0 24 24\"\n",
              "     width=\"24px\">\n",
              "    <g>\n",
              "        <path d=\"M19 3H5c-1.1 0-2 .9-2 2v14c0 1.1.9 2 2 2h14c1.1 0 2-.9 2-2V5c0-1.1-.9-2-2-2zM9 17H7v-7h2v7zm4 0h-2V7h2v10zm4 0h-2v-4h2v4z\"/>\n",
              "    </g>\n",
              "</svg>\n",
              "  </button>\n",
              "\n",
              "<style>\n",
              "  .colab-df-quickchart {\n",
              "      --bg-color: #E8F0FE;\n",
              "      --fill-color: #1967D2;\n",
              "      --hover-bg-color: #E2EBFA;\n",
              "      --hover-fill-color: #174EA6;\n",
              "      --disabled-fill-color: #AAA;\n",
              "      --disabled-bg-color: #DDD;\n",
              "  }\n",
              "\n",
              "  [theme=dark] .colab-df-quickchart {\n",
              "      --bg-color: #3B4455;\n",
              "      --fill-color: #D2E3FC;\n",
              "      --hover-bg-color: #434B5C;\n",
              "      --hover-fill-color: #FFFFFF;\n",
              "      --disabled-bg-color: #3B4455;\n",
              "      --disabled-fill-color: #666;\n",
              "  }\n",
              "\n",
              "  .colab-df-quickchart {\n",
              "    background-color: var(--bg-color);\n",
              "    border: none;\n",
              "    border-radius: 50%;\n",
              "    cursor: pointer;\n",
              "    display: none;\n",
              "    fill: var(--fill-color);\n",
              "    height: 32px;\n",
              "    padding: 0;\n",
              "    width: 32px;\n",
              "  }\n",
              "\n",
              "  .colab-df-quickchart:hover {\n",
              "    background-color: var(--hover-bg-color);\n",
              "    box-shadow: 0 1px 2px rgba(60, 64, 67, 0.3), 0 1px 3px 1px rgba(60, 64, 67, 0.15);\n",
              "    fill: var(--button-hover-fill-color);\n",
              "  }\n",
              "\n",
              "  .colab-df-quickchart-complete:disabled,\n",
              "  .colab-df-quickchart-complete:disabled:hover {\n",
              "    background-color: var(--disabled-bg-color);\n",
              "    fill: var(--disabled-fill-color);\n",
              "    box-shadow: none;\n",
              "  }\n",
              "\n",
              "  .colab-df-spinner {\n",
              "    border: 2px solid var(--fill-color);\n",
              "    border-color: transparent;\n",
              "    border-bottom-color: var(--fill-color);\n",
              "    animation:\n",
              "      spin 1s steps(1) infinite;\n",
              "  }\n",
              "\n",
              "  @keyframes spin {\n",
              "    0% {\n",
              "      border-color: transparent;\n",
              "      border-bottom-color: var(--fill-color);\n",
              "      border-left-color: var(--fill-color);\n",
              "    }\n",
              "    20% {\n",
              "      border-color: transparent;\n",
              "      border-left-color: var(--fill-color);\n",
              "      border-top-color: var(--fill-color);\n",
              "    }\n",
              "    30% {\n",
              "      border-color: transparent;\n",
              "      border-left-color: var(--fill-color);\n",
              "      border-top-color: var(--fill-color);\n",
              "      border-right-color: var(--fill-color);\n",
              "    }\n",
              "    40% {\n",
              "      border-color: transparent;\n",
              "      border-right-color: var(--fill-color);\n",
              "      border-top-color: var(--fill-color);\n",
              "    }\n",
              "    60% {\n",
              "      border-color: transparent;\n",
              "      border-right-color: var(--fill-color);\n",
              "    }\n",
              "    80% {\n",
              "      border-color: transparent;\n",
              "      border-right-color: var(--fill-color);\n",
              "      border-bottom-color: var(--fill-color);\n",
              "    }\n",
              "    90% {\n",
              "      border-color: transparent;\n",
              "      border-bottom-color: var(--fill-color);\n",
              "    }\n",
              "  }\n",
              "</style>\n",
              "\n",
              "  <script>\n",
              "    async function quickchart(key) {\n",
              "      const quickchartButtonEl =\n",
              "        document.querySelector('#' + key + ' button');\n",
              "      quickchartButtonEl.disabled = true;  // To prevent multiple clicks.\n",
              "      quickchartButtonEl.classList.add('colab-df-spinner');\n",
              "      try {\n",
              "        const charts = await google.colab.kernel.invokeFunction(\n",
              "            'suggestCharts', [key], {});\n",
              "      } catch (error) {\n",
              "        console.error('Error during call to suggestCharts:', error);\n",
              "      }\n",
              "      quickchartButtonEl.classList.remove('colab-df-spinner');\n",
              "      quickchartButtonEl.classList.add('colab-df-quickchart-complete');\n",
              "    }\n",
              "    (() => {\n",
              "      let quickchartButtonEl =\n",
              "        document.querySelector('#df-73499b6e-f7e9-454d-a6c0-dbe1c10a6e74 button');\n",
              "      quickchartButtonEl.style.display =\n",
              "        google.colab.kernel.accessAllowed ? 'block' : 'none';\n",
              "    })();\n",
              "  </script>\n",
              "</div>\n",
              "\n",
              "  <div id=\"id_eaedad53-658b-48d0-b0ef-8ab409b6e6c1\">\n",
              "    <style>\n",
              "      .colab-df-generate {\n",
              "        background-color: #E8F0FE;\n",
              "        border: none;\n",
              "        border-radius: 50%;\n",
              "        cursor: pointer;\n",
              "        display: none;\n",
              "        fill: #1967D2;\n",
              "        height: 32px;\n",
              "        padding: 0 0 0 0;\n",
              "        width: 32px;\n",
              "      }\n",
              "\n",
              "      .colab-df-generate:hover {\n",
              "        background-color: #E2EBFA;\n",
              "        box-shadow: 0px 1px 2px rgba(60, 64, 67, 0.3), 0px 1px 3px 1px rgba(60, 64, 67, 0.15);\n",
              "        fill: #174EA6;\n",
              "      }\n",
              "\n",
              "      [theme=dark] .colab-df-generate {\n",
              "        background-color: #3B4455;\n",
              "        fill: #D2E3FC;\n",
              "      }\n",
              "\n",
              "      [theme=dark] .colab-df-generate:hover {\n",
              "        background-color: #434B5C;\n",
              "        box-shadow: 0px 1px 3px 1px rgba(0, 0, 0, 0.15);\n",
              "        filter: drop-shadow(0px 1px 2px rgba(0, 0, 0, 0.3));\n",
              "        fill: #FFFFFF;\n",
              "      }\n",
              "    </style>\n",
              "    <button class=\"colab-df-generate\" onclick=\"generateWithVariable('nodes')\"\n",
              "            title=\"Generate code using this dataframe.\"\n",
              "            style=\"display:none;\">\n",
              "\n",
              "  <svg xmlns=\"http://www.w3.org/2000/svg\" height=\"24px\"viewBox=\"0 0 24 24\"\n",
              "       width=\"24px\">\n",
              "    <path d=\"M7,19H8.4L18.45,9,17,7.55,7,17.6ZM5,21V16.75L18.45,3.32a2,2,0,0,1,2.83,0l1.4,1.43a1.91,1.91,0,0,1,.58,1.4,1.91,1.91,0,0,1-.58,1.4L9.25,21ZM18.45,9,17,7.55Zm-12,3A5.31,5.31,0,0,0,4.9,8.1,5.31,5.31,0,0,0,1,6.5,5.31,5.31,0,0,0,4.9,4.9,5.31,5.31,0,0,0,6.5,1,5.31,5.31,0,0,0,8.1,4.9,5.31,5.31,0,0,0,12,6.5,5.46,5.46,0,0,0,6.5,12Z\"/>\n",
              "  </svg>\n",
              "    </button>\n",
              "    <script>\n",
              "      (() => {\n",
              "      const buttonEl =\n",
              "        document.querySelector('#id_eaedad53-658b-48d0-b0ef-8ab409b6e6c1 button.colab-df-generate');\n",
              "      buttonEl.style.display =\n",
              "        google.colab.kernel.accessAllowed ? 'block' : 'none';\n",
              "\n",
              "      buttonEl.onclick = () => {\n",
              "        google.colab.notebook.generateWithVariable('nodes');\n",
              "      }\n",
              "      })();\n",
              "    </script>\n",
              "  </div>\n",
              "\n",
              "    </div>\n",
              "  </div>\n"
            ],
            "application/vnd.google.colaboratory.intrinsic+json": {
              "type": "dataframe",
              "variable_name": "nodes",
              "summary": "{\n  \"name\": \"nodes\",\n  \"rows\": 5870,\n  \"fields\": [\n    {\n      \"column\": \"id\",\n      \"properties\": {\n        \"dtype\": \"number\",\n        \"std\": 2196,\n        \"min\": 1,\n        \"max\": 7623,\n        \"num_unique_values\": 5870,\n        \"samples\": [\n          3546,\n          780,\n          275\n        ],\n        \"semantic_type\": \"\",\n        \"description\": \"\"\n      }\n    },\n    {\n      \"column\": \"target\",\n      \"properties\": {\n        \"dtype\": \"number\",\n        \"std\": 5,\n        \"min\": 0,\n        \"max\": 17,\n        \"num_unique_values\": 18,\n        \"samples\": [\n          17,\n          3,\n          2\n        ],\n        \"semantic_type\": \"\",\n        \"description\": \"\"\n      }\n    }\n  ]\n}"
            }
          },
          "metadata": {},
          "execution_count": 49
        }
      ]
    },
    {
      "cell_type": "code",
      "source": [
        "# class is a file contain for each node its community\n",
        "modularity_gephi = pd.read_csv('/content/class.csv')\n",
        "modularity_gephi = modularity_gephi.sort_values(by='id')\n",
        "modularity_gephi = modularity_gephi.reset_index()\n",
        "nodes['class'] = modularity_gephi['class']"
      ],
      "metadata": {
        "id": "R6ZQzJXcRVhy",
        "colab": {
          "base_uri": "https://localhost:8080/"
        },
        "outputId": "6b52c017-b137-420c-e92b-33779bfa7b94"
      },
      "execution_count": 50,
      "outputs": [
        {
          "output_type": "stream",
          "name": "stderr",
          "text": [
            "<ipython-input-50-afa1c30cd2b0>:5: SettingWithCopyWarning: \n",
            "A value is trying to be set on a copy of a slice from a DataFrame.\n",
            "Try using .loc[row_indexer,col_indexer] = value instead\n",
            "\n",
            "See the caveats in the documentation: https://pandas.pydata.org/pandas-docs/stable/user_guide/indexing.html#returning-a-view-versus-a-copy\n",
            "  nodes['class'] = modularity_gephi['class']\n"
          ]
        }
      ]
    },
    {
      "cell_type": "code",
      "source": [
        "modularity_gephi"
      ],
      "metadata": {
        "colab": {
          "base_uri": "https://localhost:8080/",
          "height": 424
        },
        "id": "csotlXbuZZTS",
        "outputId": "b0146223-e136-497d-af8b-7b82fa67e07d"
      },
      "execution_count": 51,
      "outputs": [
        {
          "output_type": "execute_result",
          "data": {
            "text/plain": [
              "      index    id  class  Unnamed: 2  Unnamed: 3  Unnamed: 4  Unnamed: 5  \\\n",
              "0         0     1     10         NaN         NaN         NaN         NaN   \n",
              "1        10     2      0         NaN         NaN         NaN         NaN   \n",
              "2        18     3     10         NaN         NaN         NaN         NaN   \n",
              "3        13     6      0         NaN         NaN         NaN         NaN   \n",
              "4        55     7      3         NaN         NaN         NaN         NaN   \n",
              "...     ...   ...    ...         ...         ...         ...         ...   \n",
              "5865   1914  7618     10         NaN         NaN         NaN         NaN   \n",
              "5866   1726  7620      8         NaN         NaN         NaN         NaN   \n",
              "5867   2572  7621      4         NaN         NaN         NaN         NaN   \n",
              "5868   5842  7622     10         NaN         NaN         NaN         NaN   \n",
              "5869   2667  7623     13         NaN         NaN         NaN         NaN   \n",
              "\n",
              "      Unnamed: 6  Unnamed: 7  \n",
              "0            NaN         NaN  \n",
              "1            NaN         NaN  \n",
              "2            NaN         NaN  \n",
              "3            NaN         NaN  \n",
              "4            NaN         NaN  \n",
              "...          ...         ...  \n",
              "5865         NaN         NaN  \n",
              "5866         NaN         NaN  \n",
              "5867         NaN         NaN  \n",
              "5868         NaN         NaN  \n",
              "5869         NaN         NaN  \n",
              "\n",
              "[5870 rows x 9 columns]"
            ],
            "text/html": [
              "\n",
              "  <div id=\"df-cc19ded3-c7b3-4c09-8e85-c23f30daec28\" class=\"colab-df-container\">\n",
              "    <div>\n",
              "<style scoped>\n",
              "    .dataframe tbody tr th:only-of-type {\n",
              "        vertical-align: middle;\n",
              "    }\n",
              "\n",
              "    .dataframe tbody tr th {\n",
              "        vertical-align: top;\n",
              "    }\n",
              "\n",
              "    .dataframe thead th {\n",
              "        text-align: right;\n",
              "    }\n",
              "</style>\n",
              "<table border=\"1\" class=\"dataframe\">\n",
              "  <thead>\n",
              "    <tr style=\"text-align: right;\">\n",
              "      <th></th>\n",
              "      <th>index</th>\n",
              "      <th>id</th>\n",
              "      <th>class</th>\n",
              "      <th>Unnamed: 2</th>\n",
              "      <th>Unnamed: 3</th>\n",
              "      <th>Unnamed: 4</th>\n",
              "      <th>Unnamed: 5</th>\n",
              "      <th>Unnamed: 6</th>\n",
              "      <th>Unnamed: 7</th>\n",
              "    </tr>\n",
              "  </thead>\n",
              "  <tbody>\n",
              "    <tr>\n",
              "      <th>0</th>\n",
              "      <td>0</td>\n",
              "      <td>1</td>\n",
              "      <td>10</td>\n",
              "      <td>NaN</td>\n",
              "      <td>NaN</td>\n",
              "      <td>NaN</td>\n",
              "      <td>NaN</td>\n",
              "      <td>NaN</td>\n",
              "      <td>NaN</td>\n",
              "    </tr>\n",
              "    <tr>\n",
              "      <th>1</th>\n",
              "      <td>10</td>\n",
              "      <td>2</td>\n",
              "      <td>0</td>\n",
              "      <td>NaN</td>\n",
              "      <td>NaN</td>\n",
              "      <td>NaN</td>\n",
              "      <td>NaN</td>\n",
              "      <td>NaN</td>\n",
              "      <td>NaN</td>\n",
              "    </tr>\n",
              "    <tr>\n",
              "      <th>2</th>\n",
              "      <td>18</td>\n",
              "      <td>3</td>\n",
              "      <td>10</td>\n",
              "      <td>NaN</td>\n",
              "      <td>NaN</td>\n",
              "      <td>NaN</td>\n",
              "      <td>NaN</td>\n",
              "      <td>NaN</td>\n",
              "      <td>NaN</td>\n",
              "    </tr>\n",
              "    <tr>\n",
              "      <th>3</th>\n",
              "      <td>13</td>\n",
              "      <td>6</td>\n",
              "      <td>0</td>\n",
              "      <td>NaN</td>\n",
              "      <td>NaN</td>\n",
              "      <td>NaN</td>\n",
              "      <td>NaN</td>\n",
              "      <td>NaN</td>\n",
              "      <td>NaN</td>\n",
              "    </tr>\n",
              "    <tr>\n",
              "      <th>4</th>\n",
              "      <td>55</td>\n",
              "      <td>7</td>\n",
              "      <td>3</td>\n",
              "      <td>NaN</td>\n",
              "      <td>NaN</td>\n",
              "      <td>NaN</td>\n",
              "      <td>NaN</td>\n",
              "      <td>NaN</td>\n",
              "      <td>NaN</td>\n",
              "    </tr>\n",
              "    <tr>\n",
              "      <th>...</th>\n",
              "      <td>...</td>\n",
              "      <td>...</td>\n",
              "      <td>...</td>\n",
              "      <td>...</td>\n",
              "      <td>...</td>\n",
              "      <td>...</td>\n",
              "      <td>...</td>\n",
              "      <td>...</td>\n",
              "      <td>...</td>\n",
              "    </tr>\n",
              "    <tr>\n",
              "      <th>5865</th>\n",
              "      <td>1914</td>\n",
              "      <td>7618</td>\n",
              "      <td>10</td>\n",
              "      <td>NaN</td>\n",
              "      <td>NaN</td>\n",
              "      <td>NaN</td>\n",
              "      <td>NaN</td>\n",
              "      <td>NaN</td>\n",
              "      <td>NaN</td>\n",
              "    </tr>\n",
              "    <tr>\n",
              "      <th>5866</th>\n",
              "      <td>1726</td>\n",
              "      <td>7620</td>\n",
              "      <td>8</td>\n",
              "      <td>NaN</td>\n",
              "      <td>NaN</td>\n",
              "      <td>NaN</td>\n",
              "      <td>NaN</td>\n",
              "      <td>NaN</td>\n",
              "      <td>NaN</td>\n",
              "    </tr>\n",
              "    <tr>\n",
              "      <th>5867</th>\n",
              "      <td>2572</td>\n",
              "      <td>7621</td>\n",
              "      <td>4</td>\n",
              "      <td>NaN</td>\n",
              "      <td>NaN</td>\n",
              "      <td>NaN</td>\n",
              "      <td>NaN</td>\n",
              "      <td>NaN</td>\n",
              "      <td>NaN</td>\n",
              "    </tr>\n",
              "    <tr>\n",
              "      <th>5868</th>\n",
              "      <td>5842</td>\n",
              "      <td>7622</td>\n",
              "      <td>10</td>\n",
              "      <td>NaN</td>\n",
              "      <td>NaN</td>\n",
              "      <td>NaN</td>\n",
              "      <td>NaN</td>\n",
              "      <td>NaN</td>\n",
              "      <td>NaN</td>\n",
              "    </tr>\n",
              "    <tr>\n",
              "      <th>5869</th>\n",
              "      <td>2667</td>\n",
              "      <td>7623</td>\n",
              "      <td>13</td>\n",
              "      <td>NaN</td>\n",
              "      <td>NaN</td>\n",
              "      <td>NaN</td>\n",
              "      <td>NaN</td>\n",
              "      <td>NaN</td>\n",
              "      <td>NaN</td>\n",
              "    </tr>\n",
              "  </tbody>\n",
              "</table>\n",
              "<p>5870 rows × 9 columns</p>\n",
              "</div>\n",
              "    <div class=\"colab-df-buttons\">\n",
              "\n",
              "  <div class=\"colab-df-container\">\n",
              "    <button class=\"colab-df-convert\" onclick=\"convertToInteractive('df-cc19ded3-c7b3-4c09-8e85-c23f30daec28')\"\n",
              "            title=\"Convert this dataframe to an interactive table.\"\n",
              "            style=\"display:none;\">\n",
              "\n",
              "  <svg xmlns=\"http://www.w3.org/2000/svg\" height=\"24px\" viewBox=\"0 -960 960 960\">\n",
              "    <path d=\"M120-120v-720h720v720H120Zm60-500h600v-160H180v160Zm220 220h160v-160H400v160Zm0 220h160v-160H400v160ZM180-400h160v-160H180v160Zm440 0h160v-160H620v160ZM180-180h160v-160H180v160Zm440 0h160v-160H620v160Z\"/>\n",
              "  </svg>\n",
              "    </button>\n",
              "\n",
              "  <style>\n",
              "    .colab-df-container {\n",
              "      display:flex;\n",
              "      gap: 12px;\n",
              "    }\n",
              "\n",
              "    .colab-df-convert {\n",
              "      background-color: #E8F0FE;\n",
              "      border: none;\n",
              "      border-radius: 50%;\n",
              "      cursor: pointer;\n",
              "      display: none;\n",
              "      fill: #1967D2;\n",
              "      height: 32px;\n",
              "      padding: 0 0 0 0;\n",
              "      width: 32px;\n",
              "    }\n",
              "\n",
              "    .colab-df-convert:hover {\n",
              "      background-color: #E2EBFA;\n",
              "      box-shadow: 0px 1px 2px rgba(60, 64, 67, 0.3), 0px 1px 3px 1px rgba(60, 64, 67, 0.15);\n",
              "      fill: #174EA6;\n",
              "    }\n",
              "\n",
              "    .colab-df-buttons div {\n",
              "      margin-bottom: 4px;\n",
              "    }\n",
              "\n",
              "    [theme=dark] .colab-df-convert {\n",
              "      background-color: #3B4455;\n",
              "      fill: #D2E3FC;\n",
              "    }\n",
              "\n",
              "    [theme=dark] .colab-df-convert:hover {\n",
              "      background-color: #434B5C;\n",
              "      box-shadow: 0px 1px 3px 1px rgba(0, 0, 0, 0.15);\n",
              "      filter: drop-shadow(0px 1px 2px rgba(0, 0, 0, 0.3));\n",
              "      fill: #FFFFFF;\n",
              "    }\n",
              "  </style>\n",
              "\n",
              "    <script>\n",
              "      const buttonEl =\n",
              "        document.querySelector('#df-cc19ded3-c7b3-4c09-8e85-c23f30daec28 button.colab-df-convert');\n",
              "      buttonEl.style.display =\n",
              "        google.colab.kernel.accessAllowed ? 'block' : 'none';\n",
              "\n",
              "      async function convertToInteractive(key) {\n",
              "        const element = document.querySelector('#df-cc19ded3-c7b3-4c09-8e85-c23f30daec28');\n",
              "        const dataTable =\n",
              "          await google.colab.kernel.invokeFunction('convertToInteractive',\n",
              "                                                    [key], {});\n",
              "        if (!dataTable) return;\n",
              "\n",
              "        const docLinkHtml = 'Like what you see? Visit the ' +\n",
              "          '<a target=\"_blank\" href=https://colab.research.google.com/notebooks/data_table.ipynb>data table notebook</a>'\n",
              "          + ' to learn more about interactive tables.';\n",
              "        element.innerHTML = '';\n",
              "        dataTable['output_type'] = 'display_data';\n",
              "        await google.colab.output.renderOutput(dataTable, element);\n",
              "        const docLink = document.createElement('div');\n",
              "        docLink.innerHTML = docLinkHtml;\n",
              "        element.appendChild(docLink);\n",
              "      }\n",
              "    </script>\n",
              "  </div>\n",
              "\n",
              "\n",
              "<div id=\"df-f2af200e-6181-4e24-9703-2f29e96e4674\">\n",
              "  <button class=\"colab-df-quickchart\" onclick=\"quickchart('df-f2af200e-6181-4e24-9703-2f29e96e4674')\"\n",
              "            title=\"Suggest charts\"\n",
              "            style=\"display:none;\">\n",
              "\n",
              "<svg xmlns=\"http://www.w3.org/2000/svg\" height=\"24px\"viewBox=\"0 0 24 24\"\n",
              "     width=\"24px\">\n",
              "    <g>\n",
              "        <path d=\"M19 3H5c-1.1 0-2 .9-2 2v14c0 1.1.9 2 2 2h14c1.1 0 2-.9 2-2V5c0-1.1-.9-2-2-2zM9 17H7v-7h2v7zm4 0h-2V7h2v10zm4 0h-2v-4h2v4z\"/>\n",
              "    </g>\n",
              "</svg>\n",
              "  </button>\n",
              "\n",
              "<style>\n",
              "  .colab-df-quickchart {\n",
              "      --bg-color: #E8F0FE;\n",
              "      --fill-color: #1967D2;\n",
              "      --hover-bg-color: #E2EBFA;\n",
              "      --hover-fill-color: #174EA6;\n",
              "      --disabled-fill-color: #AAA;\n",
              "      --disabled-bg-color: #DDD;\n",
              "  }\n",
              "\n",
              "  [theme=dark] .colab-df-quickchart {\n",
              "      --bg-color: #3B4455;\n",
              "      --fill-color: #D2E3FC;\n",
              "      --hover-bg-color: #434B5C;\n",
              "      --hover-fill-color: #FFFFFF;\n",
              "      --disabled-bg-color: #3B4455;\n",
              "      --disabled-fill-color: #666;\n",
              "  }\n",
              "\n",
              "  .colab-df-quickchart {\n",
              "    background-color: var(--bg-color);\n",
              "    border: none;\n",
              "    border-radius: 50%;\n",
              "    cursor: pointer;\n",
              "    display: none;\n",
              "    fill: var(--fill-color);\n",
              "    height: 32px;\n",
              "    padding: 0;\n",
              "    width: 32px;\n",
              "  }\n",
              "\n",
              "  .colab-df-quickchart:hover {\n",
              "    background-color: var(--hover-bg-color);\n",
              "    box-shadow: 0 1px 2px rgba(60, 64, 67, 0.3), 0 1px 3px 1px rgba(60, 64, 67, 0.15);\n",
              "    fill: var(--button-hover-fill-color);\n",
              "  }\n",
              "\n",
              "  .colab-df-quickchart-complete:disabled,\n",
              "  .colab-df-quickchart-complete:disabled:hover {\n",
              "    background-color: var(--disabled-bg-color);\n",
              "    fill: var(--disabled-fill-color);\n",
              "    box-shadow: none;\n",
              "  }\n",
              "\n",
              "  .colab-df-spinner {\n",
              "    border: 2px solid var(--fill-color);\n",
              "    border-color: transparent;\n",
              "    border-bottom-color: var(--fill-color);\n",
              "    animation:\n",
              "      spin 1s steps(1) infinite;\n",
              "  }\n",
              "\n",
              "  @keyframes spin {\n",
              "    0% {\n",
              "      border-color: transparent;\n",
              "      border-bottom-color: var(--fill-color);\n",
              "      border-left-color: var(--fill-color);\n",
              "    }\n",
              "    20% {\n",
              "      border-color: transparent;\n",
              "      border-left-color: var(--fill-color);\n",
              "      border-top-color: var(--fill-color);\n",
              "    }\n",
              "    30% {\n",
              "      border-color: transparent;\n",
              "      border-left-color: var(--fill-color);\n",
              "      border-top-color: var(--fill-color);\n",
              "      border-right-color: var(--fill-color);\n",
              "    }\n",
              "    40% {\n",
              "      border-color: transparent;\n",
              "      border-right-color: var(--fill-color);\n",
              "      border-top-color: var(--fill-color);\n",
              "    }\n",
              "    60% {\n",
              "      border-color: transparent;\n",
              "      border-right-color: var(--fill-color);\n",
              "    }\n",
              "    80% {\n",
              "      border-color: transparent;\n",
              "      border-right-color: var(--fill-color);\n",
              "      border-bottom-color: var(--fill-color);\n",
              "    }\n",
              "    90% {\n",
              "      border-color: transparent;\n",
              "      border-bottom-color: var(--fill-color);\n",
              "    }\n",
              "  }\n",
              "</style>\n",
              "\n",
              "  <script>\n",
              "    async function quickchart(key) {\n",
              "      const quickchartButtonEl =\n",
              "        document.querySelector('#' + key + ' button');\n",
              "      quickchartButtonEl.disabled = true;  // To prevent multiple clicks.\n",
              "      quickchartButtonEl.classList.add('colab-df-spinner');\n",
              "      try {\n",
              "        const charts = await google.colab.kernel.invokeFunction(\n",
              "            'suggestCharts', [key], {});\n",
              "      } catch (error) {\n",
              "        console.error('Error during call to suggestCharts:', error);\n",
              "      }\n",
              "      quickchartButtonEl.classList.remove('colab-df-spinner');\n",
              "      quickchartButtonEl.classList.add('colab-df-quickchart-complete');\n",
              "    }\n",
              "    (() => {\n",
              "      let quickchartButtonEl =\n",
              "        document.querySelector('#df-f2af200e-6181-4e24-9703-2f29e96e4674 button');\n",
              "      quickchartButtonEl.style.display =\n",
              "        google.colab.kernel.accessAllowed ? 'block' : 'none';\n",
              "    })();\n",
              "  </script>\n",
              "</div>\n",
              "\n",
              "  <div id=\"id_2c10733f-bfac-431b-a75e-c89deaa6b02d\">\n",
              "    <style>\n",
              "      .colab-df-generate {\n",
              "        background-color: #E8F0FE;\n",
              "        border: none;\n",
              "        border-radius: 50%;\n",
              "        cursor: pointer;\n",
              "        display: none;\n",
              "        fill: #1967D2;\n",
              "        height: 32px;\n",
              "        padding: 0 0 0 0;\n",
              "        width: 32px;\n",
              "      }\n",
              "\n",
              "      .colab-df-generate:hover {\n",
              "        background-color: #E2EBFA;\n",
              "        box-shadow: 0px 1px 2px rgba(60, 64, 67, 0.3), 0px 1px 3px 1px rgba(60, 64, 67, 0.15);\n",
              "        fill: #174EA6;\n",
              "      }\n",
              "\n",
              "      [theme=dark] .colab-df-generate {\n",
              "        background-color: #3B4455;\n",
              "        fill: #D2E3FC;\n",
              "      }\n",
              "\n",
              "      [theme=dark] .colab-df-generate:hover {\n",
              "        background-color: #434B5C;\n",
              "        box-shadow: 0px 1px 3px 1px rgba(0, 0, 0, 0.15);\n",
              "        filter: drop-shadow(0px 1px 2px rgba(0, 0, 0, 0.3));\n",
              "        fill: #FFFFFF;\n",
              "      }\n",
              "    </style>\n",
              "    <button class=\"colab-df-generate\" onclick=\"generateWithVariable('modularity_gephi')\"\n",
              "            title=\"Generate code using this dataframe.\"\n",
              "            style=\"display:none;\">\n",
              "\n",
              "  <svg xmlns=\"http://www.w3.org/2000/svg\" height=\"24px\"viewBox=\"0 0 24 24\"\n",
              "       width=\"24px\">\n",
              "    <path d=\"M7,19H8.4L18.45,9,17,7.55,7,17.6ZM5,21V16.75L18.45,3.32a2,2,0,0,1,2.83,0l1.4,1.43a1.91,1.91,0,0,1,.58,1.4,1.91,1.91,0,0,1-.58,1.4L9.25,21ZM18.45,9,17,7.55Zm-12,3A5.31,5.31,0,0,0,4.9,8.1,5.31,5.31,0,0,0,1,6.5,5.31,5.31,0,0,0,4.9,4.9,5.31,5.31,0,0,0,6.5,1,5.31,5.31,0,0,0,8.1,4.9,5.31,5.31,0,0,0,12,6.5,5.46,5.46,0,0,0,6.5,12Z\"/>\n",
              "  </svg>\n",
              "    </button>\n",
              "    <script>\n",
              "      (() => {\n",
              "      const buttonEl =\n",
              "        document.querySelector('#id_2c10733f-bfac-431b-a75e-c89deaa6b02d button.colab-df-generate');\n",
              "      buttonEl.style.display =\n",
              "        google.colab.kernel.accessAllowed ? 'block' : 'none';\n",
              "\n",
              "      buttonEl.onclick = () => {\n",
              "        google.colab.notebook.generateWithVariable('modularity_gephi');\n",
              "      }\n",
              "      })();\n",
              "    </script>\n",
              "  </div>\n",
              "\n",
              "    </div>\n",
              "  </div>\n"
            ],
            "application/vnd.google.colaboratory.intrinsic+json": {
              "type": "dataframe",
              "variable_name": "modularity_gephi",
              "summary": "{\n  \"name\": \"modularity_gephi\",\n  \"rows\": 5870,\n  \"fields\": [\n    {\n      \"column\": \"index\",\n      \"properties\": {\n        \"dtype\": \"number\",\n        \"std\": 1694,\n        \"min\": 0,\n        \"max\": 5869,\n        \"num_unique_values\": 5870,\n        \"samples\": [\n          3281,\n          3101,\n          1527\n        ],\n        \"semantic_type\": \"\",\n        \"description\": \"\"\n      }\n    },\n    {\n      \"column\": \"id\",\n      \"properties\": {\n        \"dtype\": \"number\",\n        \"std\": 2196,\n        \"min\": 1,\n        \"max\": 7623,\n        \"num_unique_values\": 5870,\n        \"samples\": [\n          3546,\n          780,\n          275\n        ],\n        \"semantic_type\": \"\",\n        \"description\": \"\"\n      }\n    },\n    {\n      \"column\": \"class\",\n      \"properties\": {\n        \"dtype\": \"number\",\n        \"std\": 4,\n        \"min\": 0,\n        \"max\": 19,\n        \"num_unique_values\": 20,\n        \"samples\": [\n          10,\n          19,\n          15\n        ],\n        \"semantic_type\": \"\",\n        \"description\": \"\"\n      }\n    },\n    {\n      \"column\": \"Unnamed: 2\",\n      \"properties\": {\n        \"dtype\": \"number\",\n        \"std\": null,\n        \"min\": null,\n        \"max\": null,\n        \"num_unique_values\": 0,\n        \"samples\": [],\n        \"semantic_type\": \"\",\n        \"description\": \"\"\n      }\n    },\n    {\n      \"column\": \"Unnamed: 3\",\n      \"properties\": {\n        \"dtype\": \"number\",\n        \"std\": null,\n        \"min\": null,\n        \"max\": null,\n        \"num_unique_values\": 0,\n        \"samples\": [],\n        \"semantic_type\": \"\",\n        \"description\": \"\"\n      }\n    },\n    {\n      \"column\": \"Unnamed: 4\",\n      \"properties\": {\n        \"dtype\": \"number\",\n        \"std\": null,\n        \"min\": null,\n        \"max\": null,\n        \"num_unique_values\": 0,\n        \"samples\": [],\n        \"semantic_type\": \"\",\n        \"description\": \"\"\n      }\n    },\n    {\n      \"column\": \"Unnamed: 5\",\n      \"properties\": {\n        \"dtype\": \"number\",\n        \"std\": null,\n        \"min\": null,\n        \"max\": null,\n        \"num_unique_values\": 0,\n        \"samples\": [],\n        \"semantic_type\": \"\",\n        \"description\": \"\"\n      }\n    },\n    {\n      \"column\": \"Unnamed: 6\",\n      \"properties\": {\n        \"dtype\": \"number\",\n        \"std\": null,\n        \"min\": null,\n        \"max\": null,\n        \"num_unique_values\": 0,\n        \"samples\": [],\n        \"semantic_type\": \"\",\n        \"description\": \"\"\n      }\n    },\n    {\n      \"column\": \"Unnamed: 7\",\n      \"properties\": {\n        \"dtype\": \"number\",\n        \"std\": null,\n        \"min\": null,\n        \"max\": null,\n        \"num_unique_values\": 0,\n        \"samples\": [],\n        \"semantic_type\": \"\",\n        \"description\": \"\"\n      }\n    }\n  ]\n}"
            }
          },
          "metadata": {},
          "execution_count": 51
        }
      ]
    },
    {
      "cell_type": "code",
      "source": [
        "nodes_dict = nodes.to_dict('index')"
      ],
      "metadata": {
        "id": "v_ZpNKIMB-o5"
      },
      "execution_count": 52,
      "outputs": []
    },
    {
      "cell_type": "code",
      "source": [
        "com_dict_modularity = {}\n",
        "for node in nodes_dict:\n",
        "  node_id = nodes_dict[node]['id']\n",
        "  cls = nodes_dict[node]['class']\n",
        "  if cls in com_dict_modularity:\n",
        "    com_dict_modularity[cls].append(node_id)\n",
        "  else:\n",
        "    com_dict_modularity[cls] = [node_id]"
      ],
      "metadata": {
        "id": "BGnlaM_cXC7c"
      },
      "execution_count": 53,
      "outputs": []
    },
    {
      "cell_type": "code",
      "source": [
        "artists = {}\n",
        "new_artists = []\n",
        "i = 0\n",
        "for node in json_data:\n",
        "  node_artists = json_data[node]\n",
        "  key_node = int(node)\n",
        "  for artist in node_artists:\n",
        "    key_artist = int(artist)\n",
        "    if key_artist in artists:\n",
        "      artists[key_artist].append(key_node)\n",
        "    else:\n",
        "      artists[key_artist] = [key_node]"
      ],
      "metadata": {
        "id": "mz7Xgg4CV149"
      },
      "execution_count": 54,
      "outputs": []
    },
    {
      "cell_type": "code",
      "source": [
        "community_artists = {}\n",
        "community_countries = {}\n",
        "nodes_community = {}\n",
        "for community in com_dict_modularity:\n",
        "  community_artists[community] = {}\n",
        "  community_countries[community] = {}\n",
        "  for node in com_dict_modularity[community]:\n",
        "    node_artists = json_data[str(node)]\n",
        "    node_country = nodes[nodes['id'] == node]['target'].values[0]\n",
        "    if node_country in community_countries[community]:\n",
        "       community_countries[community][node_country] += 1\n",
        "    else:\n",
        "      community_countries[community][node_country] = 1\n",
        "    for artist in node_artists:\n",
        "      if artist in community_artists[community]:\n",
        "        community_artists[community][artist] += 1\n",
        "      else:\n",
        "        community_artists[community][artist] = 1"
      ],
      "metadata": {
        "id": "Ty6yCRu5W_2k"
      },
      "execution_count": 55,
      "outputs": []
    },
    {
      "cell_type": "code",
      "source": [
        "top_artists_per_community = {}\n",
        "for community in community_artists:\n",
        "  top_artists_per_community[community] = {}\n",
        "  total_artists = len(community_artists[community])\n",
        "  for artist in community_artists[community]:\n",
        "    p = community_artists[community][artist] / total_artists * 100\n",
        "    top_artists_per_community[community][artist] = p\n",
        "\n",
        "for community in top_artists_per_community:\n",
        "  top_artists_per_community[community] = sorted(top_artists_per_community[community].items(), key=lambda item: item[1], reverse=True)[:5]\n"
      ],
      "metadata": {
        "id": "0dqlfBZzXHKK"
      },
      "execution_count": 56,
      "outputs": []
    },
    {
      "cell_type": "code",
      "source": [
        "pd_community = {'community' : [], 'artist' : [], 'prec' : []}\n",
        "for community in top_artists_per_community:\n",
        "  for artist in top_artists_per_community[community]:\n",
        "    pd_community['community'].append(community)\n",
        "    pd_community['artist'].append(artist[0])\n",
        "    pd_community['prec'].append(artist[1])\n",
        "\n",
        "pd_community = pd.DataFrame(pd_community)"
      ],
      "metadata": {
        "id": "3J2tLLYSw9Sx"
      },
      "execution_count": 57,
      "outputs": []
    },
    {
      "cell_type": "code",
      "source": [
        "# Plotting the histogram\n",
        "ax = nodes['class'].plot(kind='hist', bins=20, title='Distribution of Communities')\n",
        "\n",
        "# Removing the top and right spines\n",
        "ax.spines[['top', 'right']].set_visible(False)\n",
        "\n",
        "# Setting the titles\n",
        "plt.title('Distribution of Communities')\n",
        "plt.xlabel('Community')\n",
        "plt.ylabel('# of Nodes')\n",
        "\n",
        "# Updating the x-axis tick labels to be unique integer values in the middle of each bin\n",
        "bin_edges = ax.patches[0].get_x() + ax.patches[0].get_width()\n",
        "bin_centers = [patch.get_x() + patch.get_width() / 2 for patch in ax.patches]\n",
        "bin_labels = [int(round(center)) for center in bin_centers]\n",
        "unique_labels = list(dict.fromkeys(bin_labels))  # Ensure the labels are unique\n",
        "ax.set_xticks(bin_centers)\n",
        "ax.set_xticklabels(unique_labels)\n",
        "\n",
        "plt.show()"
      ],
      "metadata": {
        "colab": {
          "base_uri": "https://localhost:8080/",
          "height": 472
        },
        "id": "soLqd70qxau0",
        "outputId": "16d018d3-c05b-4809-b13a-4a235b073196"
      },
      "execution_count": 58,
      "outputs": [
        {
          "output_type": "display_data",
          "data": {
            "text/plain": [
              "<Figure size 640x480 with 1 Axes>"
            ],
            "image/png": "[encoded data removed]"
          },
          "metadata": {}
        }
      ]
    },
    {
      "cell_type": "code",
      "source": [
        "# Calculate node counts for each community and country\n",
        "\n",
        "\n",
        "# Aggregate data to calculate percentage of each country in each community\n",
        "agg_df = nodes.groupby('class')['target'].value_counts(normalize=True).mul(100).reset_index(name='percentage')\n",
        "\n",
        "# Pivot table to reshape data for plotting\n",
        "pivot_df = agg_df.pivot_table(index='class', columns='target', values='percentage', fill_value=0)\n",
        "\n",
        "# Sort columns by index (target) and convert to list\n",
        "columns_sorted = pivot_df.columns.sort_values().tolist()\n",
        "\n",
        "# Reindex pivot table to ensure columns are sorted\n",
        "pivot_df = pivot_df.reindex(columns=columns_sorted)\n",
        "\n",
        "\n",
        "# Generate random colors for each country\n",
        "colors = ['#e6194B', '#3cb44b', '#ffe119', '#4363d8', '#f58231', '#911eb4', '#42d4f4', '#f032e6', '#bfef45', '#fabed4', '#469990', '#dcbeff', '#9A6324', '#fffac8', '#800000', '#aaffc3', '#808000', '#ffd8b1', '#000075', '#a9a9a9', '#ffffff', '#000000']\n",
        "\n",
        "# Plotting\n",
        "fig, ax = plt.subplots(figsize=(10, 6))\n",
        "\n",
        "# Define colors for each country (assuming len(countries) colors are defined)\n",
        "countries = pivot_df.columns.astype(int).tolist()\n",
        "colors = plt.cm.get_cmap('tab20', len(countries))\n",
        "\n",
        "# Plot stacked bars\n",
        "bars = []\n",
        "bottom = np.zeros(len(pivot_df))\n",
        "for i, country in enumerate(countries):\n",
        "    bars.append(ax.bar(pivot_df.index, pivot_df[country], bottom=bottom, label=f'Country {country}', color=colors(i)))\n",
        "    bottom += pivot_df[country]\n",
        "\n",
        "# Annotate percentages within bars for values greater than 20%\n",
        "for bar in bars:\n",
        "    for rect in bar:\n",
        "        height = rect.get_height()\n",
        "        if height > 20:  # Adjust the threshold here as needed\n",
        "            ax.annotate(f'{height:.1f}%', xy=(rect.get_x() + rect.get_width() / 2, rect.get_y() + rect.get_height() / 2),\n",
        "                        xytext=(0, 3), textcoords='offset points',\n",
        "                        ha='center', va='center', fontsize=8)\n",
        "\n",
        "# Labeling axes\n",
        "ax.set_xlabel('Community Number')\n",
        "ax.set_ylabel('Percentage of Nodes (%)')\n",
        "\n",
        "# Set numeric community numbers as x-axis ticks\n",
        "ax.set_xticks(pivot_df.index)\n",
        "ax.set_xticklabels(pivot_df.index)\n",
        "\n",
        "# Sort legend items numerically\n",
        "handles, labels = ax.get_legend_handles_labels()\n",
        "sorted_labels = sorted(labels, key=lambda label: int(label.split()[1]))\n",
        "sorted_handles = [handles[labels.index(label)] for label in sorted_labels]\n",
        "ax.legend(sorted_handles, sorted_labels, title='Country', bbox_to_anchor=(1.05, 1), loc='upper left')\n",
        "\n",
        "# Adding title to the plot\n",
        "ax.set_title('Percentage of Each Country in Different Communities')\n",
        "\n",
        "# Adjust layout and display plot\n",
        "plt.tight_layout()\n",
        "plt.show()\n"
      ],
      "metadata": {
        "colab": {
          "base_uri": "https://localhost:8080/",
          "height": 662
        },
        "id": "uOQGi05Wjran",
        "outputId": "6dd1c23f-ae40-4986-cdc6-d24a3f4f5ceb"
      },
      "execution_count": 59,
      "outputs": [
        {
          "output_type": "stream",
          "name": "stderr",
          "text": [
            "<ipython-input-59-99f8eed6e8b4>:25: MatplotlibDeprecationWarning: The get_cmap function was deprecated in Matplotlib 3.7 and will be removed two minor releases later. Use ``matplotlib.colormaps[name]`` or ``matplotlib.colormaps.get_cmap(obj)`` instead.\n",
            "  colors = plt.cm.get_cmap('tab20', len(countries))\n"
          ]
        },
        {
          "output_type": "display_data",
          "data": {
            "text/plain": [
              "<Figure size 1000x600 with 1 Axes>"
            ],
            "image/png": "[encoded data removed]"
          },
          "metadata": {}
        }
      ]
    },
    {
      "cell_type": "code",
      "source": [
        "from matplotlib.patches import Patch\n",
        "\n",
        "\n",
        "df = pd.DataFrame(pd_community)\n",
        "\n",
        "# Get unique communities\n",
        "communities = sorted(df['community'].unique())\n",
        "# Increase height of each subplot\n",
        "# Number of rows and columns for the grid of plots\n",
        "num_rows = 5\n",
        "num_cols = 4\n",
        "\n",
        "# Create a larger plot with a grid layout\n",
        "fig, axs = plt.subplots(num_rows, num_cols, figsize=(16, 20), sharey='row')  # Adjust figsize as needed\n",
        "\n",
        "# Choose a pastel colormap\n",
        "colors = plt.cm.get_cmap('Pastel1', 5)\n",
        "\n",
        "# Iterate over each community and plot in the grid\n",
        "for idx, community in enumerate(communities):\n",
        "    row = idx // num_cols\n",
        "    col = idx % num_cols\n",
        "    ax = axs[row, col]\n",
        "\n",
        "    community_data = df[df['community'] == community].nlargest(5, 'prec')\n",
        "\n",
        "    # Plot the data with pastel colors\n",
        "    bars = ax.bar(community_data['artist'].astype(str), community_data['prec'], color=[colors(i) for i in range(5)])\n",
        "\n",
        "    # Annotate bars with percentages\n",
        "    for bar in bars:\n",
        "        height = bar.get_height()\n",
        "        ax.annotate(f'{height:.2f}%',  # Format as percentage with two decimal places\n",
        "                    xy=(bar.get_x() + bar.get_width() / 2, height),\n",
        "                    xytext=(0, 3),  # Offset text by 3 points above the bar\n",
        "                    textcoords='offset points',\n",
        "                    ha='center', va='bottom')\n",
        "\n",
        "    # Labeling\n",
        "    ax.set_ylabel('Percentage')\n",
        "    ax.set_title(f'Community {community}')\n",
        "    ax.set_xticks(community_data['artist'].astype(str))  # Set x-ticks to only the top 5 artists\n",
        "\n",
        "    # Create legend with artist IDs\n",
        "    legend_handles = [Patch(color=colors(i), label=f'{artist}') for i, artist in enumerate(community_data['artist'].head(5))]\n",
        "    # ax.legend(handles=legend_handles, loc='upper right')\n",
        "\n",
        "# Add common x-label and adjust layout\n",
        "fig.text(0.5, 0.04, 'Artist ID', ha='center', va='center')\n",
        "plt.tight_layout(rect=[0, 0.04, 1, 0.96])  # Adjust rect to leave space for xlabel\n",
        "\n",
        "# Show the plot\n",
        "plt.show()\n"
      ],
      "metadata": {
        "colab": {
          "base_uri": "https://localhost:8080/",
          "height": 1000
        },
        "id": "VSpiiZvLEbR9",
        "outputId": "3f114191-a7a0-4c99-9b23-ab546965fc1a"
      },
      "execution_count": 60,
      "outputs": [
        {
          "output_type": "stream",
          "name": "stderr",
          "text": [
            "<ipython-input-60-c3bb1da45c80>:17: MatplotlibDeprecationWarning: The get_cmap function was deprecated in Matplotlib 3.7 and will be removed two minor releases later. Use ``matplotlib.colormaps[name]`` or ``matplotlib.colormaps.get_cmap(obj)`` instead.\n",
            "  colors = plt.cm.get_cmap('Pastel1', 5)\n"
          ]
        },
        {
          "output_type": "display_data",
          "data": {
            "text/plain": [
              "<Figure size 1600x2000 with 20 Axes>"
            ],
            "image/png": "[encoded data removed]"
          },
          "metadata": {}
        }
      ]
    },
    {
      "cell_type": "markdown",
      "source": [
        "## 7 - Link Prediction"
      ],
      "metadata": {
        "id": "oFaL-YnlWdlZ"
      }
    },
    {
      "cell_type": "markdown",
      "source": [
        "### Adamic Adar"
      ],
      "metadata": {
        "id": "g03vtmCvUhqb"
      }
    },
    {
      "cell_type": "code",
      "source": [
        "preds_adamic_adar = nx.adamic_adar_index(G)\n",
        "\n",
        "\n",
        "pred_dict_adamic_adar = {}\n",
        "for u, v, p in preds_adamic_adar:\n",
        "    pred_dict_adamic_adar[(u,v)] = p"
      ],
      "metadata": {
        "id": "biFAdbJqsi_s"
      },
      "execution_count": 61,
      "outputs": []
    },
    {
      "cell_type": "code",
      "source": [
        "top_ten_aa = sorted(pred_dict_adamic_adar.items(), key=lambda x:x[1], reverse=True)[:10]"
      ],
      "metadata": {
        "id": "-lq1cuHKr0LR"
      },
      "execution_count": 62,
      "outputs": []
    },
    {
      "cell_type": "code",
      "source": [
        "top_ten_predictions(top_ten_aa, nodes, features_data)"
      ],
      "metadata": {
        "colab": {
          "base_uri": "https://localhost:8080/"
        },
        "id": "uWwH0mGNT73H",
        "outputId": "03078cb8-8286-4c6f-ef18-0aa1150fdbb6"
      },
      "execution_count": 63,
      "outputs": [
        {
          "output_type": "stream",
          "name": "stdout",
          "text": [
            "(290, 3597), 13.553631112870649\n",
            "        id  target  class\n",
            "212    290       0      4\n",
            "2759  3597       0      4\n",
            "(1057, 6241), 13.267516499206351\n",
            "        id  target  class\n",
            "796   1057      16     15\n",
            "4789  6241      16     15\n",
            "(2591, 4785), 12.357108650493029\n",
            "        id  target  class\n",
            "1967  2591       6      6\n",
            "3674  4785       6      6\n",
            "(3360, 7224), 11.107693565394236\n",
            "        id  target  class\n",
            "2567  3360      14      6\n",
            "5557  7224      14      6\n",
            "(3038, 3853), 10.358079498592025\n",
            "        id  target  class\n",
            "2315  3038      14      6\n",
            "2959  3853      14      6\n",
            "(2848, 3251), 10.321386854317668\n",
            "        id  target  class\n",
            "2166  2848       0      4\n",
            "2482  3251       0      4\n",
            "(378, 2083), 10.314061147610714\n",
            "        id  target  class\n",
            "279    378       0      4\n",
            "1590  2083       0      4\n",
            "(290, 6891), 10.164889051002366\n",
            "        id  target  class\n",
            "212    290       0      4\n",
            "5299  6891       6      4\n",
            "(4000, 7224), 9.766529517403216\n",
            "        id  target  class\n",
            "3073  4000      14      6\n",
            "5557  7224      14      6\n",
            "(2510, 3038), 9.319354791355392\n",
            "        id  target  class\n",
            "1904  2510      14      6\n",
            "2315  3038      14      6\n",
            "9\n",
            "27\n"
          ]
        }
      ]
    },
    {
      "cell_type": "markdown",
      "source": [
        "### Jaccard"
      ],
      "metadata": {
        "id": "BQx8DxxXUkNe"
      }
    },
    {
      "cell_type": "code",
      "source": [
        "preds_jaccard = nx.jaccard_coefficient(G)\n",
        "\n",
        "\n",
        "pred_dict_jaccard = {}\n",
        "for u, v, p in preds_jaccard:\n",
        "    pred_dict_jaccard[(u,v)] = p\n",
        "\n",
        "sorted(pred_dict_jaccard.items(), key=lambda x:x[1], reverse=True)[:10]"
      ],
      "metadata": {
        "colab": {
          "base_uri": "https://localhost:8080/"
        },
        "id": "6I6QUkTvbEZO",
        "outputId": "dd4d7c90-fc46-43cf-b150-0b5c8526daaf"
      },
      "execution_count": 64,
      "outputs": [
        {
          "output_type": "execute_result",
          "data": {
            "text/plain": [
              "[((42, 234), 1.0),\n",
              " ((350, 6677), 1.0),\n",
              " ((391, 2801), 1.0),\n",
              " ((583, 6824), 1.0),\n",
              " ((755, 1063), 1.0),\n",
              " ((874, 4579), 1.0),\n",
              " ((1076, 4351), 1.0),\n",
              " ((1076, 7181), 1.0),\n",
              " ((1123, 3903), 1.0),\n",
              " ((1252, 7283), 1.0)]"
            ]
          },
          "metadata": {},
          "execution_count": 64
        }
      ]
    },
    {
      "cell_type": "code",
      "source": [
        "top_ten_j = sorted(pred_dict_jaccard.items(), key=lambda x:x[1], reverse=True)[:10]"
      ],
      "metadata": {
        "id": "bSnvREw6vbIU"
      },
      "execution_count": 65,
      "outputs": []
    },
    {
      "cell_type": "code",
      "source": [
        "top_ten_predictions(top_ten_j, nodes, features_data)"
      ],
      "metadata": {
        "colab": {
          "base_uri": "https://localhost:8080/"
        },
        "id": "U1ZfTVT1UDQb",
        "outputId": "5876b923-5f3d-40c0-bb9f-3846af14cb17"
      },
      "execution_count": 66,
      "outputs": [
        {
          "output_type": "stream",
          "name": "stdout",
          "text": [
            "(42, 234), 1.0\n",
            "      id  target  class\n",
            "31    42       0      4\n",
            "172  234       0      4\n",
            "(350, 6677), 1.0\n",
            "        id  target  class\n",
            "260    350       6      6\n",
            "5126  6677       6      6\n",
            "(391, 2801), 1.0\n",
            "        id  target  class\n",
            "289    391       6      6\n",
            "2125  2801       6      6\n",
            "(583, 6824), 1.0\n",
            "        id  target  class\n",
            "436    583      17      0\n",
            "5244  6824       3      0\n",
            "(755, 1063), 1.0\n",
            "       id  target  class\n",
            "568   755       0      6\n",
            "801  1063       0      6\n",
            "(874, 4579), 1.0\n",
            "        id  target  class\n",
            "657    874      10     12\n",
            "3520  4579      10     12\n",
            "(1076, 4351), 1.0\n",
            "        id  target  class\n",
            "810   1076       0      4\n",
            "3353  4351       0      4\n",
            "(1076, 7181), 1.0\n",
            "        id  target  class\n",
            "810   1076       0      4\n",
            "5523  7181       0      4\n",
            "(1123, 3903), 1.0\n",
            "        id  target  class\n",
            "843   1123       9     19\n",
            "2995  3903      17     19\n",
            "(1252, 7283), 1.0\n",
            "        id  target  class\n",
            "943   1252       7     12\n",
            "5600  7283       7     12\n",
            "21\n",
            "2\n"
          ]
        }
      ]
    },
    {
      "cell_type": "markdown",
      "source": [
        "## 8 - Top ten analysis"
      ],
      "metadata": {
        "id": "jPSFpjSSUn4S"
      }
    },
    {
      "cell_type": "code",
      "source": [
        "top_ten_community = {'node':[], 'community':[], 'target':[]}\n",
        "for node in G.nodes():\n",
        "  if node in top_10_nodes:\n",
        "    node_community = nodes.loc[nodes['id'] == node]['class'].values[0]\n",
        "    node_target = nodes.loc[nodes['id'] == node]['target'].values[0]\n",
        "    top_ten_community['node'].append(node)\n",
        "    top_ten_community['community'].append(node_community)\n",
        "    top_ten_community['target'].append(node_target)\n"
      ],
      "metadata": {
        "id": "kY9_O-MG0Gh_"
      },
      "execution_count": 67,
      "outputs": []
    },
    {
      "cell_type": "code",
      "source": [
        "top_ten_community = pd.DataFrame(top_ten_community)"
      ],
      "metadata": {
        "id": "wsNyT37I0G-b"
      },
      "execution_count": 68,
      "outputs": []
    },
    {
      "cell_type": "code",
      "source": [
        "# Creating the DataFrame with sample data\n",
        "# Plotting the histogram\n",
        "ax = top_ten_community['target'].plot(kind='hist', bins=18, title='Distribution of Top-10 over Countries')\n",
        "\n",
        "# Removing the top and right spines\n",
        "ax.spines[['top', 'right']].set_visible(False)\n",
        "\n",
        "# Setting the titles\n",
        "plt.title('Distribution of Top-10 over Countries')\n",
        "plt.xlabel('Country')\n",
        "plt.ylabel('# of Nodes')\n",
        "\n",
        "# Updating the x-axis tick labels to be unique integer values in the middle of each bin\n",
        "bin_edges = ax.patches[0].get_x() + ax.patches[0].get_width()\n",
        "bin_centers = [patch.get_x() + patch.get_width() / 2 for patch in ax.patches]\n",
        "bin_labels = [int(round(center)) for center in bin_centers]\n",
        "unique_labels = list(range(18))  # Ensure the labels are unique\n",
        "ax.set_xticks(bin_centers)\n",
        "ax.set_xticklabels(unique_labels)\n",
        "\n",
        "plt.show()\n"
      ],
      "metadata": {
        "colab": {
          "base_uri": "https://localhost:8080/",
          "height": 472
        },
        "id": "waz034EW1tIM",
        "outputId": "31f01eb9-f998-496b-d2c4-e7a6ec188917"
      },
      "execution_count": 69,
      "outputs": [
        {
          "output_type": "display_data",
          "data": {
            "text/plain": [
              "<Figure size 640x480 with 1 Axes>"
            ],
            "image/png": "[encoded data removed]"
          },
          "metadata": {}
        }
      ]
    }
  ]
}